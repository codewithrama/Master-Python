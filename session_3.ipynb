{
  "nbformat": 4,
  "nbformat_minor": 0,
  "metadata": {
    "colab": {
      "provenance": [],
      "include_colab_link": true
    },
    "kernelspec": {
      "name": "python3",
      "display_name": "Python 3"
    },
    "language_info": {
      "name": "python"
    }
  },
  "cells": [
    {
      "cell_type": "markdown",
      "metadata": {
        "id": "view-in-github",
        "colab_type": "text"
      },
      "source": [
        "<a href=\"https://colab.research.google.com/github/codewithrama/Master-Python/blob/main/session_3.ipynb\" target=\"_parent\"><img src=\"https://colab.research.google.com/assets/colab-badge.svg\" alt=\"Open In Colab\"/></a>"
      ]
    },
    {
      "cell_type": "markdown",
      "source": [
        "# empty data structures"
      ],
      "metadata": {
        "id": "ibEU4TOeeuaP"
      }
    },
    {
      "cell_type": "code",
      "source": [
        "empty_set = set()\n",
        "empty_list = [] # or list()\n",
        "empty_tuple = () # or tuple()"
      ],
      "metadata": {
        "id": "rY5Djdbsetnt"
      },
      "execution_count": null,
      "outputs": []
    },
    {
      "cell_type": "markdown",
      "source": [
        "# Dictionaries : unordered collection of data in the form of Key : value pair \n",
        "    - each key value pair is an item and items are separated by comma\n",
        "    - a key and a value is separated by ' : '\n",
        "    - keys are unique for a dictionary and can be any immutable python data object\n",
        "    - values are any arbitrary python object\n",
        "    "
      ],
      "metadata": {
        "id": "9Pgpw09wdXrF"
      }
    },
    {
      "cell_type": "code",
      "execution_count": null,
      "metadata": {
        "id": "PF9R6cjhdVCt"
      },
      "outputs": [],
      "source": [
        "empty_dict = {} # dict()"
      ]
    },
    {
      "cell_type": "code",
      "source": [
        "info = {'Name': \"Nimisha Pandey\", \"Age\" : 36, \"Desig\" : \"SME\" }\n",
        "info"
      ],
      "metadata": {
        "colab": {
          "base_uri": "https://localhost:8080/"
        },
        "id": "loTC5hhZfE_g",
        "outputId": "f5c859c7-c1db-4662-aa6e-514500ef39a9"
      },
      "execution_count": null,
      "outputs": [
        {
          "output_type": "execute_result",
          "data": {
            "text/plain": [
              "{'Name': 'Nimisha Pandey', 'Age': 36, 'Desig': 'SME'}"
            ]
          },
          "metadata": {},
          "execution_count": 3
        }
      ]
    },
    {
      "cell_type": "code",
      "source": [
        "print(info.items())"
      ],
      "metadata": {
        "colab": {
          "base_uri": "https://localhost:8080/"
        },
        "id": "h1apSpYEfRLH",
        "outputId": "01601241-14af-4f56-b679-ac586e859669"
      },
      "execution_count": null,
      "outputs": [
        {
          "output_type": "stream",
          "name": "stdout",
          "text": [
            "dict_items([('Name', 'Nimisha Pandey'), ('Age', 36), ('Desig', 'SME')])\n"
          ]
        }
      ]
    },
    {
      "cell_type": "code",
      "source": [
        "print(info.keys())"
      ],
      "metadata": {
        "colab": {
          "base_uri": "https://localhost:8080/"
        },
        "id": "mgiur0VLgFnB",
        "outputId": "97a25a50-9abb-4320-a676-f98dd260948a"
      },
      "execution_count": null,
      "outputs": [
        {
          "output_type": "stream",
          "name": "stdout",
          "text": [
            "dict_keys(['Name', 'Age', 'Desig'])\n"
          ]
        }
      ]
    },
    {
      "cell_type": "code",
      "source": [
        "print(info.values())"
      ],
      "metadata": {
        "colab": {
          "base_uri": "https://localhost:8080/"
        },
        "id": "7BthJlmCgMRe",
        "outputId": "a44e42a9-369e-4510-b508-53694885094f"
      },
      "execution_count": null,
      "outputs": [
        {
          "output_type": "stream",
          "name": "stdout",
          "text": [
            "dict_values(['Nimisha Pandey', 36, 'SME'])\n"
          ]
        }
      ]
    },
    {
      "cell_type": "code",
      "source": [
        "info = {'Name'  : 'Nimisha Pandey', 'Age' : 32, 'Desig' : 'SME', 'Name' : 'Ms. Nimisha Pandey'}\n",
        "print(info)"
      ],
      "metadata": {
        "colab": {
          "base_uri": "https://localhost:8080/"
        },
        "id": "Waahh8MLgOVo",
        "outputId": "44ac74c1-2613-4b1d-f737-ebf27ee6b4bb"
      },
      "execution_count": null,
      "outputs": [
        {
          "output_type": "stream",
          "name": "stdout",
          "text": [
            "{'Name': 'Ms. Nimisha Pandey', 'Age': 32, 'Desig': 'SME'}\n"
          ]
        }
      ]
    },
    {
      "cell_type": "code",
      "source": [
        "d = {1 : 'a', 2.9: 'b', \"class\": \"object\", True : 1, (2,3) : 6}\n",
        "print(d)"
      ],
      "metadata": {
        "colab": {
          "base_uri": "https://localhost:8080/"
        },
        "id": "AdjkcUitgxz_",
        "outputId": "b80e27ac-eefd-4d4e-e4d7-d1f33a81d417"
      },
      "execution_count": null,
      "outputs": [
        {
          "output_type": "stream",
          "name": "stdout",
          "text": [
            "{1: 1, 2.9: 'b', 'class': 'object', (2, 3): 6}\n"
          ]
        }
      ]
    },
    {
      "cell_type": "markdown",
      "source": [
        "### access element in the dictionary"
      ],
      "metadata": {
        "id": "dFFft3mDiRCg"
      }
    },
    {
      "cell_type": "code",
      "source": [
        "info['Name']"
      ],
      "metadata": {
        "colab": {
          "base_uri": "https://localhost:8080/",
          "height": 35
        },
        "id": "kLqdnXqmhpBD",
        "outputId": "7a78ed93-e4e0-4504-bc32-c9e1b29a2823"
      },
      "execution_count": null,
      "outputs": [
        {
          "output_type": "execute_result",
          "data": {
            "text/plain": [
              "'Ms. Nimisha Pandey'"
            ],
            "application/vnd.google.colaboratory.intrinsic+json": {
              "type": "string"
            }
          },
          "metadata": {},
          "execution_count": 9
        }
      ]
    },
    {
      "cell_type": "code",
      "source": [
        "# d[key]\n",
        "d[2.9]"
      ],
      "metadata": {
        "colab": {
          "base_uri": "https://localhost:8080/",
          "height": 35
        },
        "id": "KkuwjJUJiXbz",
        "outputId": "fc486ae4-f518-4678-d79f-ed8f9443ee20"
      },
      "execution_count": null,
      "outputs": [
        {
          "output_type": "execute_result",
          "data": {
            "text/plain": [
              "'b'"
            ],
            "application/vnd.google.colaboratory.intrinsic+json": {
              "type": "string"
            }
          },
          "metadata": {},
          "execution_count": 10
        }
      ]
    },
    {
      "cell_type": "markdown",
      "source": [
        "## update : add items"
      ],
      "metadata": {
        "id": "ZJOFjUsYip6r"
      }
    },
    {
      "cell_type": "code",
      "source": [
        "info"
      ],
      "metadata": {
        "colab": {
          "base_uri": "https://localhost:8080/"
        },
        "id": "MpQOirCIiZg0",
        "outputId": "1e5ca7b5-1b1d-44f1-ef09-49d0eafefdb8"
      },
      "execution_count": null,
      "outputs": [
        {
          "output_type": "execute_result",
          "data": {
            "text/plain": [
              "{'Name': 'Ms. Nimisha Pandey', 'Age': 32, 'Desig': 'SME'}"
            ]
          },
          "metadata": {},
          "execution_count": 11
        }
      ]
    },
    {
      "cell_type": "code",
      "source": [
        "info['charges'] = 5000 # added\n",
        "print(info)"
      ],
      "metadata": {
        "colab": {
          "base_uri": "https://localhost:8080/"
        },
        "id": "mISlmdImiuYz",
        "outputId": "db1e3dd9-b588-4cc5-f16a-c201ba93b239"
      },
      "execution_count": null,
      "outputs": [
        {
          "output_type": "stream",
          "name": "stdout",
          "text": [
            "{'Name': 'Ms. Nimisha Pandey', 'Age': 32, 'Desig': 'SME', 'charges': 5000}\n"
          ]
        }
      ]
    },
    {
      "cell_type": "code",
      "source": [
        "info['Desig'] = 'Lead Trainer' # updated\n",
        "info"
      ],
      "metadata": {
        "colab": {
          "base_uri": "https://localhost:8080/"
        },
        "id": "SlkhND-ii1FQ",
        "outputId": "d0736ad7-009b-4d79-cc18-7ad7acad649c"
      },
      "execution_count": null,
      "outputs": [
        {
          "output_type": "execute_result",
          "data": {
            "text/plain": [
              "{'Name': 'Ms. Nimisha Pandey',\n",
              " 'Age': 32,\n",
              " 'Desig': 'Lead Trainer',\n",
              " 'charges': 5000}"
            ]
          },
          "metadata": {},
          "execution_count": 13
        }
      ]
    },
    {
      "cell_type": "code",
      "source": [
        "info.update({'charges' : 6000, 'corporates' : ['Amex', 'HDFC', 'CitiBank']})\n",
        "info"
      ],
      "metadata": {
        "colab": {
          "base_uri": "https://localhost:8080/"
        },
        "id": "iheS9otXi7sV",
        "outputId": "189ad6fb-7763-43d4-a381-146bf87346e1"
      },
      "execution_count": null,
      "outputs": [
        {
          "output_type": "execute_result",
          "data": {
            "text/plain": [
              "{'Name': 'Ms. Nimisha Pandey',\n",
              " 'Age': 32,\n",
              " 'Desig': 'Lead Trainer',\n",
              " 'charges': 6000,\n",
              " 'corporates': ['Amex', 'HDFC', 'CitiBank']}"
            ]
          },
          "metadata": {},
          "execution_count": 16
        }
      ]
    },
    {
      "cell_type": "code",
      "source": [
        "dir(info)"
      ],
      "metadata": {
        "id": "wMtgLwKPkTCs"
      },
      "execution_count": null,
      "outputs": []
    },
    {
      "cell_type": "markdown",
      "source": [
        "### Hands on : to the list of corporates add 'XYZ'"
      ],
      "metadata": {
        "id": "2KayIE6BlPdz"
      }
    },
    {
      "cell_type": "code",
      "source": [
        "info['corporates'].append('XYZ')"
      ],
      "metadata": {
        "id": "gaKf7qrlk96w"
      },
      "execution_count": null,
      "outputs": []
    },
    {
      "cell_type": "code",
      "source": [
        "info"
      ],
      "metadata": {
        "colab": {
          "base_uri": "https://localhost:8080/"
        },
        "id": "NCUDORyQmHYO",
        "outputId": "d82e88f1-522a-4ddf-d427-86647d201cb1"
      },
      "execution_count": null,
      "outputs": [
        {
          "output_type": "execute_result",
          "data": {
            "text/plain": [
              "{'Name': 'Ms. Nimisha Pandey',\n",
              " 'Age': 32,\n",
              " 'Desig': 'Lead Trainer',\n",
              " 'charges': 6000,\n",
              " 'corporates': ['Amex', 'HDFC', 'CitiBank', 'XYZ']}"
            ]
          },
          "metadata": {},
          "execution_count": 20
        }
      ]
    },
    {
      "cell_type": "code",
      "source": [
        "# info['corporates'] =\"xyz\""
      ],
      "metadata": {
        "id": "JQmUVLEBmOal"
      },
      "execution_count": null,
      "outputs": []
    },
    {
      "cell_type": "markdown",
      "source": [
        "### remove"
      ],
      "metadata": {
        "id": "L1DTaoU4m6Su"
      }
    },
    {
      "cell_type": "code",
      "source": [
        "info.items()"
      ],
      "metadata": {
        "colab": {
          "base_uri": "https://localhost:8080/"
        },
        "id": "zsoEHc7Im2TH",
        "outputId": "0ea1a343-5594-4eb4-d3c0-fe076a91cec7"
      },
      "execution_count": null,
      "outputs": [
        {
          "output_type": "execute_result",
          "data": {
            "text/plain": [
              "dict_items([('Name', 'Ms. Nimisha Pandey'), ('Age', 32), ('Desig', 'Lead Trainer'), ('charges', 6000), ('corporates', ['Amex', 'HDFC', 'CitiBank', 'XYZ'])])"
            ]
          },
          "metadata": {},
          "execution_count": 22
        }
      ]
    },
    {
      "cell_type": "code",
      "source": [
        "info.pop('Name') # key "
      ],
      "metadata": {
        "colab": {
          "base_uri": "https://localhost:8080/",
          "height": 35
        },
        "id": "M9TM0oGfm8-a",
        "outputId": "b55376c1-89e3-4536-d5e2-fdb62ac9e16c"
      },
      "execution_count": null,
      "outputs": [
        {
          "output_type": "execute_result",
          "data": {
            "text/plain": [
              "'Ms. Nimisha Pandey'"
            ],
            "application/vnd.google.colaboratory.intrinsic+json": {
              "type": "string"
            }
          },
          "metadata": {},
          "execution_count": 24
        }
      ]
    },
    {
      "cell_type": "code",
      "source": [
        "info"
      ],
      "metadata": {
        "colab": {
          "base_uri": "https://localhost:8080/"
        },
        "id": "NvHZvrWonEPv",
        "outputId": "4ec7ffaa-bc8d-4b2c-92b2-b11f5f8975bc"
      },
      "execution_count": null,
      "outputs": [
        {
          "output_type": "execute_result",
          "data": {
            "text/plain": [
              "{'Age': 32,\n",
              " 'Desig': 'Lead Trainer',\n",
              " 'charges': 6000,\n",
              " 'corporates': ['Amex', 'HDFC', 'CitiBank', 'XYZ']}"
            ]
          },
          "metadata": {},
          "execution_count": 25
        }
      ]
    },
    {
      "cell_type": "code",
      "source": [
        "info.popitem()"
      ],
      "metadata": {
        "colab": {
          "base_uri": "https://localhost:8080/"
        },
        "id": "YLho7CztnIKK",
        "outputId": "1812668b-8c4d-4400-97fc-9044ccf8259a"
      },
      "execution_count": null,
      "outputs": [
        {
          "output_type": "execute_result",
          "data": {
            "text/plain": [
              "('corporates', ['Amex', 'HDFC', 'CitiBank', 'XYZ'])"
            ]
          },
          "metadata": {},
          "execution_count": 26
        }
      ]
    },
    {
      "cell_type": "code",
      "source": [
        "info"
      ],
      "metadata": {
        "colab": {
          "base_uri": "https://localhost:8080/"
        },
        "id": "LsDekQ2cnQH1",
        "outputId": "cfc49441-598b-48e1-ca94-353c2b917a28"
      },
      "execution_count": null,
      "outputs": [
        {
          "output_type": "execute_result",
          "data": {
            "text/plain": [
              "{'Age': 32, 'Desig': 'Lead Trainer', 'charges': 6000}"
            ]
          },
          "metadata": {},
          "execution_count": 27
        }
      ]
    },
    {
      "cell_type": "code",
      "source": [
        "info.popitem()"
      ],
      "metadata": {
        "colab": {
          "base_uri": "https://localhost:8080/"
        },
        "id": "6DUJhtJ-nTWm",
        "outputId": "28e6179b-c84e-4f8a-e359-f3126f0117ae"
      },
      "execution_count": null,
      "outputs": [
        {
          "output_type": "execute_result",
          "data": {
            "text/plain": [
              "('charges', 6000)"
            ]
          },
          "metadata": {},
          "execution_count": 28
        }
      ]
    },
    {
      "cell_type": "code",
      "source": [
        "info"
      ],
      "metadata": {
        "colab": {
          "base_uri": "https://localhost:8080/"
        },
        "id": "9dKn0FbynUqO",
        "outputId": "cf6f9af8-4dff-4b2f-f033-045913c6a3bd"
      },
      "execution_count": null,
      "outputs": [
        {
          "output_type": "execute_result",
          "data": {
            "text/plain": [
              "{'Age': 32, 'Desig': 'Lead Trainer'}"
            ]
          },
          "metadata": {},
          "execution_count": 29
        }
      ]
    },
    {
      "cell_type": "markdown",
      "source": [
        "### interconversion "
      ],
      "metadata": {
        "id": "8BeIUJEJovZa"
      }
    },
    {
      "cell_type": "code",
      "source": [
        "# set()\n",
        "# list()\n",
        "# tuple()\n",
        "# dict()"
      ],
      "metadata": {
        "id": "IUorXwKYovNT"
      },
      "execution_count": null,
      "outputs": []
    },
    {
      "cell_type": "code",
      "source": [
        "l = [[1,2],[1,2], [3,4]]"
      ],
      "metadata": {
        "id": "sQeoEd1xnVT-"
      },
      "execution_count": null,
      "outputs": []
    },
    {
      "cell_type": "code",
      "source": [
        "tuple(l)"
      ],
      "metadata": {
        "colab": {
          "base_uri": "https://localhost:8080/"
        },
        "id": "8Kki4Fubo_yi",
        "outputId": "cc791b85-237c-46e3-d311-4434a8e5d4d1"
      },
      "execution_count": null,
      "outputs": [
        {
          "output_type": "execute_result",
          "data": {
            "text/plain": [
              "([1, 2], [1, 2], [3, 4])"
            ]
          },
          "metadata": {},
          "execution_count": 32
        }
      ]
    },
    {
      "cell_type": "code",
      "source": [
        "l1 = [1,2,1,2,3,4]\n",
        "l1"
      ],
      "metadata": {
        "colab": {
          "base_uri": "https://localhost:8080/"
        },
        "id": "TnkySmkPpCqG",
        "outputId": "a5325264-b359-44f2-a4c4-f89134f899bd"
      },
      "execution_count": null,
      "outputs": [
        {
          "output_type": "execute_result",
          "data": {
            "text/plain": [
              "[1, 2, 1, 2, 3, 4]"
            ]
          },
          "metadata": {},
          "execution_count": 33
        }
      ]
    },
    {
      "cell_type": "code",
      "source": [
        "set(l1)"
      ],
      "metadata": {
        "colab": {
          "base_uri": "https://localhost:8080/"
        },
        "id": "7J1rBfpypO4v",
        "outputId": "dfacca83-40fd-432d-da0d-a601599d8b72"
      },
      "execution_count": null,
      "outputs": [
        {
          "output_type": "execute_result",
          "data": {
            "text/plain": [
              "{1, 2, 3, 4}"
            ]
          },
          "metadata": {},
          "execution_count": 34
        }
      ]
    },
    {
      "cell_type": "code",
      "source": [
        "set(l)"
      ],
      "metadata": {
        "colab": {
          "base_uri": "https://localhost:8080/",
          "height": 166
        },
        "id": "9VKVRlc3pQnu",
        "outputId": "9454fe53-b00b-464a-f8b7-062bf778bf49"
      },
      "execution_count": null,
      "outputs": [
        {
          "output_type": "error",
          "ename": "TypeError",
          "evalue": "ignored",
          "traceback": [
            "\u001b[0;31m---------------------------------------------------------------------------\u001b[0m",
            "\u001b[0;31mTypeError\u001b[0m                                 Traceback (most recent call last)",
            "\u001b[0;32m<ipython-input-35-997047561570>\u001b[0m in \u001b[0;36m<cell line: 1>\u001b[0;34m()\u001b[0m\n\u001b[0;32m----> 1\u001b[0;31m \u001b[0mset\u001b[0m\u001b[0;34m(\u001b[0m\u001b[0ml\u001b[0m\u001b[0;34m)\u001b[0m\u001b[0;34m\u001b[0m\u001b[0;34m\u001b[0m\u001b[0m\n\u001b[0m",
            "\u001b[0;31mTypeError\u001b[0m: unhashable type: 'list'"
          ]
        }
      ]
    },
    {
      "cell_type": "markdown",
      "source": [
        "# conditional statements"
      ],
      "metadata": {
        "id": "L6HfN9pPpnd_"
      }
    },
    {
      "cell_type": "code",
      "source": [],
      "metadata": {
        "id": "Cb_hmwR8pRxq"
      },
      "execution_count": null,
      "outputs": []
    }
  ]
}