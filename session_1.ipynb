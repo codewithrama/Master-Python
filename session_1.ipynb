{
  "nbformat": 4,
  "nbformat_minor": 0,
  "metadata": {
    "colab": {
      "provenance": [],
      "include_colab_link": true
    },
    "kernelspec": {
      "name": "python3",
      "display_name": "Python 3"
    },
    "language_info": {
      "name": "python"
    }
  },
  "cells": [
    {
      "cell_type": "markdown",
      "metadata": {
        "id": "view-in-github",
        "colab_type": "text"
      },
      "source": [
        "<a href=\"https://colab.research.google.com/github/codewithrama/Master-Python/blob/main/session_1.ipynb\" target=\"_parent\"><img src=\"https://colab.research.google.com/assets/colab-badge.svg\" alt=\"Open In Colab\"/></a>"
      ]
    },
    {
      "cell_type": "markdown",
      "source": [
        "# **Python Programming**"
      ],
      "metadata": {
        "id": "-AbncW7dxkKF"
      }
    },
    {
      "cell_type": "markdown",
      "source": [
        "## 1. comment in python"
      ],
      "metadata": {
        "id": "EZ_HiGD4yznc"
      }
    },
    {
      "cell_type": "code",
      "execution_count": null,
      "metadata": {
        "id": "8utnUTMyu0g5"
      },
      "outputs": [],
      "source": [
        "# is operator for defining comment in python\n",
        "# non executable part of code"
      ]
    },
    {
      "cell_type": "markdown",
      "source": [
        "## 2. statements in python"
      ],
      "metadata": {
        "id": "vG-EDRrwzHDx"
      }
    },
    {
      "cell_type": "code",
      "source": [
        "23 + 45"
      ],
      "metadata": {
        "colab": {
          "base_uri": "https://localhost:8080/"
        },
        "id": "mrPtCmTazGQI",
        "outputId": "b4ca6297-7b50-4905-9589-39208f4f205c"
      },
      "execution_count": null,
      "outputs": [
        {
          "output_type": "execute_result",
          "data": {
            "text/plain": [
              "68"
            ]
          },
          "metadata": {},
          "execution_count": 3
        }
      ]
    },
    {
      "cell_type": "code",
      "source": [
        "23 +\n",
        "45"
      ],
      "metadata": {
        "colab": {
          "base_uri": "https://localhost:8080/",
          "height": 131
        },
        "id": "w8svD70ozBGH",
        "outputId": "26b150a4-6496-42d4-e6c4-624128495aaf"
      },
      "execution_count": null,
      "outputs": [
        {
          "output_type": "error",
          "ename": "SyntaxError",
          "evalue": "ignored",
          "traceback": [
            "\u001b[0;36m  File \u001b[0;32m\"<ipython-input-4-cb657f93fe4d>\"\u001b[0;36m, line \u001b[0;32m1\u001b[0m\n\u001b[0;31m    23 +\u001b[0m\n\u001b[0m        ^\u001b[0m\n\u001b[0;31mSyntaxError\u001b[0m\u001b[0;31m:\u001b[0m invalid syntax\n"
          ]
        }
      ]
    },
    {
      "cell_type": "markdown",
      "source": [
        "### continuation operator"
      ],
      "metadata": {
        "id": "q41lJbmWzYuZ"
      }
    },
    {
      "cell_type": "code",
      "source": [
        "23 + \\\n",
        "45"
      ],
      "metadata": {
        "colab": {
          "base_uri": "https://localhost:8080/"
        },
        "id": "mYZjndDazP7f",
        "outputId": "2fb62e96-8343-41dc-b5eb-b115865c4711"
      },
      "execution_count": null,
      "outputs": [
        {
          "output_type": "execute_result",
          "data": {
            "text/plain": [
              "68"
            ]
          },
          "metadata": {},
          "execution_count": 5
        }
      ]
    },
    {
      "cell_type": "code",
      "source": [
        "(23 +\n",
        " 45)"
      ],
      "metadata": {
        "colab": {
          "base_uri": "https://localhost:8080/"
        },
        "id": "Jx1LkUyBzcDG",
        "outputId": "cd6c3e83-65af-4b2a-cd7b-5e077b08b980"
      },
      "execution_count": null,
      "outputs": [
        {
          "output_type": "execute_result",
          "data": {
            "text/plain": [
              "68"
            ]
          },
          "metadata": {},
          "execution_count": 6
        }
      ]
    },
    {
      "cell_type": "code",
      "source": [
        "'New \n",
        "Day'"
      ],
      "metadata": {
        "colab": {
          "base_uri": "https://localhost:8080/",
          "height": 131
        },
        "id": "W5qc3blmzh20",
        "outputId": "37ea4172-f941-41c3-c7e9-3ff2695417ea"
      },
      "execution_count": null,
      "outputs": [
        {
          "output_type": "error",
          "ename": "SyntaxError",
          "evalue": "ignored",
          "traceback": [
            "\u001b[0;36m  File \u001b[0;32m\"<ipython-input-7-499b58281f8a>\"\u001b[0;36m, line \u001b[0;32m1\u001b[0m\n\u001b[0;31m    'New\u001b[0m\n\u001b[0m         ^\u001b[0m\n\u001b[0;31mSyntaxError\u001b[0m\u001b[0;31m:\u001b[0m EOL while scanning string literal\n"
          ]
        }
      ]
    },
    {
      "cell_type": "code",
      "source": [
        "'New \\\n",
        "Day'"
      ],
      "metadata": {
        "colab": {
          "base_uri": "https://localhost:8080/",
          "height": 35
        },
        "id": "9BAEVb-szj4i",
        "outputId": "4512e945-1902-4a9a-d3a7-16df5e81627e"
      },
      "execution_count": null,
      "outputs": [
        {
          "output_type": "execute_result",
          "data": {
            "text/plain": [
              "'New Day'"
            ],
            "application/vnd.google.colaboratory.intrinsic+json": {
              "type": "string"
            }
          },
          "metadata": {},
          "execution_count": 8
        }
      ]
    },
    {
      "cell_type": "markdown",
      "source": [
        "# 3. builtin methods"
      ],
      "metadata": {
        "id": "TVIkedIQzvHa"
      }
    },
    {
      "cell_type": "code",
      "source": [
        "print(dir())"
      ],
      "metadata": {
        "colab": {
          "base_uri": "https://localhost:8080/"
        },
        "id": "MhnzsgmDzm7s",
        "outputId": "b9ce5c50-99df-47c6-96b2-35c13f766f6a"
      },
      "execution_count": null,
      "outputs": [
        {
          "output_type": "stream",
          "name": "stdout",
          "text": [
            "['In', 'Out', '_', '_3', '_5', '_6', '_8', '__', '___', '__builtin__', '__builtins__', '__doc__', '__loader__', '__name__', '__package__', '__spec__', '_dh', '_i', '_i1', '_i2', '_i3', '_i4', '_i5', '_i6', '_i7', '_i8', '_i9', '_ih', '_ii', '_iii', '_oh', 'exit', 'get_ipython', 'quit']\n"
          ]
        }
      ]
    },
    {
      "cell_type": "code",
      "source": [
        "print(dir(__builtin__))"
      ],
      "metadata": {
        "colab": {
          "base_uri": "https://localhost:8080/"
        },
        "id": "4oCbQ-Krz6un",
        "outputId": "3e55f415-c931-4438-b7e9-4e73c8bd7353"
      },
      "execution_count": null,
      "outputs": [
        {
          "output_type": "stream",
          "name": "stdout",
          "text": [
            "['ArithmeticError', 'AssertionError', 'AttributeError', 'BaseException', 'BlockingIOError', 'BrokenPipeError', 'BufferError', 'BytesWarning', 'ChildProcessError', 'ConnectionAbortedError', 'ConnectionError', 'ConnectionRefusedError', 'ConnectionResetError', 'DeprecationWarning', 'EOFError', 'Ellipsis', 'EnvironmentError', 'Exception', 'False', 'FileExistsError', 'FileNotFoundError', 'FloatingPointError', 'FutureWarning', 'GeneratorExit', 'IOError', 'ImportError', 'ImportWarning', 'IndentationError', 'IndexError', 'InterruptedError', 'IsADirectoryError', 'KeyError', 'KeyboardInterrupt', 'LookupError', 'MemoryError', 'ModuleNotFoundError', 'NameError', 'None', 'NotADirectoryError', 'NotImplemented', 'NotImplementedError', 'OSError', 'OverflowError', 'PendingDeprecationWarning', 'PermissionError', 'ProcessLookupError', 'RecursionError', 'ReferenceError', 'ResourceWarning', 'RuntimeError', 'RuntimeWarning', 'StopAsyncIteration', 'StopIteration', 'SyntaxError', 'SyntaxWarning', 'SystemError', 'SystemExit', 'TabError', 'TimeoutError', 'True', 'TypeError', 'UnboundLocalError', 'UnicodeDecodeError', 'UnicodeEncodeError', 'UnicodeError', 'UnicodeTranslateError', 'UnicodeWarning', 'UserWarning', 'ValueError', 'Warning', 'ZeroDivisionError', '__IPYTHON__', '__build_class__', '__debug__', '__doc__', '__import__', '__loader__', '__name__', '__package__', '__spec__', 'abs', 'all', 'any', 'ascii', 'bin', 'bool', 'breakpoint', 'bytearray', 'bytes', 'callable', 'chr', 'classmethod', 'compile', 'complex', 'copyright', 'credits', 'delattr', 'dict', 'dir', 'display', 'divmod', 'enumerate', 'eval', 'exec', 'execfile', 'filter', 'float', 'format', 'frozenset', 'get_ipython', 'getattr', 'globals', 'hasattr', 'hash', 'help', 'hex', 'id', 'input', 'int', 'isinstance', 'issubclass', 'iter', 'len', 'license', 'list', 'locals', 'map', 'max', 'memoryview', 'min', 'next', 'object', 'oct', 'open', 'ord', 'pow', 'print', 'property', 'range', 'repr', 'reversed', 'round', 'runfile', 'set', 'setattr', 'slice', 'sorted', 'staticmethod', 'str', 'sum', 'super', 'tuple', 'type', 'vars', 'zip']\n"
          ]
        }
      ]
    },
    {
      "cell_type": "markdown",
      "source": [
        "# 4. calling help"
      ],
      "metadata": {
        "id": "vQwiv9UJ1oEb"
      }
    },
    {
      "cell_type": "code",
      "source": [
        "help(exec)"
      ],
      "metadata": {
        "colab": {
          "base_uri": "https://localhost:8080/"
        },
        "id": "djxfsvrn0Xu2",
        "outputId": "8e54dc9c-b107-493f-ad51-3cc937c980c9"
      },
      "execution_count": null,
      "outputs": [
        {
          "output_type": "stream",
          "name": "stdout",
          "text": [
            "Help on built-in function exec in module builtins:\n",
            "\n",
            "exec(source, globals=None, locals=None, /)\n",
            "    Execute the given source in the context of globals and locals.\n",
            "    \n",
            "    The source may be a string representing one or more Python statements\n",
            "    or a code object as returned by compile().\n",
            "    The globals must be a dictionary and locals can be any mapping,\n",
            "    defaulting to the current globals and locals.\n",
            "    If only globals is given, locals defaults to it.\n",
            "\n"
          ]
        }
      ]
    },
    {
      "cell_type": "code",
      "source": [
        "help(print)"
      ],
      "metadata": {
        "colab": {
          "base_uri": "https://localhost:8080/"
        },
        "id": "sjV_mwPI1rYw",
        "outputId": "268a781e-1ca5-41a3-abcd-7e5ab5cc9806"
      },
      "execution_count": null,
      "outputs": [
        {
          "output_type": "stream",
          "name": "stdout",
          "text": [
            "Help on built-in function print in module builtins:\n",
            "\n",
            "print(...)\n",
            "    print(value, ..., sep=' ', end='\\n', file=sys.stdout, flush=False)\n",
            "    \n",
            "    Prints the values to a stream, or to sys.stdout by default.\n",
            "    Optional keyword arguments:\n",
            "    file:  a file-like object (stream); defaults to the current sys.stdout.\n",
            "    sep:   string inserted between values, default a space.\n",
            "    end:   string appended after the last value, default a newline.\n",
            "    flush: whether to forcibly flush the stream.\n",
            "\n"
          ]
        }
      ]
    },
    {
      "cell_type": "code",
      "source": [
        "?print"
      ],
      "metadata": {
        "id": "h0qq8OkW1z8A"
      },
      "execution_count": null,
      "outputs": []
    },
    {
      "cell_type": "code",
      "source": [
        "print()"
      ],
      "metadata": {
        "id": "BHz9b-aj120Z"
      },
      "execution_count": null,
      "outputs": []
    },
    {
      "cell_type": "markdown",
      "source": [
        "# 5. Data Types\n",
        "  ## 1. Numerical\n",
        "        - integer        : any real number without fractional or decimal part--  9, -8, 2877\n",
        "        - floating point : any real number with fractional or decimal part--  34.76, 0.01\n",
        "        - complex        : real and impaginary part (j) 45 + 6i >> 45 +6j\n",
        "        - boolean        : True or False\n",
        "  ## 2. String           : any character enclosed within quotes '...' or \"...\" , ''' ....''' \"\"\"...\"\"\""
      ],
      "metadata": {
        "id": "BYdczLPH2gWK"
      }
    },
    {
      "cell_type": "markdown",
      "source": [
        "## check datatype of any object "
      ],
      "metadata": {
        "id": "QSU_V9sp6phl"
      }
    },
    {
      "cell_type": "code",
      "source": [
        "type(\"hi\")"
      ],
      "metadata": {
        "colab": {
          "base_uri": "https://localhost:8080/"
        },
        "id": "kVl_xPWX5qjD",
        "outputId": "3bd5dfec-da25-4ade-d84e-d6b9ff925556"
      },
      "execution_count": null,
      "outputs": [
        {
          "output_type": "execute_result",
          "data": {
            "text/plain": [
              "str"
            ]
          },
          "metadata": {},
          "execution_count": 18
        }
      ]
    },
    {
      "cell_type": "markdown",
      "source": [
        "# 6. Identifiers in Python"
      ],
      "metadata": {
        "id": "1F9Ucghi61my"
      }
    },
    {
      "cell_type": "code",
      "source": [
        "34"
      ],
      "metadata": {
        "colab": {
          "base_uri": "https://localhost:8080/"
        },
        "id": "VGEr0MdI6vj5",
        "outputId": "64bc34ea-1b50-4e2d-b4b8-e54935e20188"
      },
      "execution_count": null,
      "outputs": [
        {
          "output_type": "execute_result",
          "data": {
            "text/plain": [
              "34"
            ]
          },
          "metadata": {},
          "execution_count": 19
        }
      ]
    },
    {
      "cell_type": "code",
      "source": [
        "23 + 45"
      ],
      "metadata": {
        "colab": {
          "base_uri": "https://localhost:8080/"
        },
        "id": "brBohSUp65uj",
        "outputId": "75e1cc0b-888c-4032-fcbc-c2294d2d9976"
      },
      "execution_count": null,
      "outputs": [
        {
          "output_type": "execute_result",
          "data": {
            "text/plain": [
              "68"
            ]
          },
          "metadata": {},
          "execution_count": 20
        }
      ]
    },
    {
      "cell_type": "markdown",
      "source": [
        "## Identifier naming rules\n",
        "- start with a letter [A-Z a-z] or an underscore [_]\n",
        "- may be followed by a combination of zero or more letters underscores or digits[0-9]\n",
        "- should not contain any special characters [apart from _]\n",
        "- case sensitive language\n",
        "- reserved words which cannot be used : for break class def del continue in is while ....\n",
        "- builtins names should not be used : overrides the default task the builtin performs"
      ],
      "metadata": {
        "id": "j-E7tLcQ7IJU"
      }
    },
    {
      "cell_type": "markdown",
      "source": [
        "| valid varaible names| Invalid Variable Names |\n",
        "| --------------------|------------------------|\n",
        "| a_34  | 34_a|\n",
        "| data_type | data.type |\n",
        "|  _rt |datatype$#@|\n"
      ],
      "metadata": {
        "id": "ww148dOa8lQl"
      }
    },
    {
      "cell_type": "code",
      "source": [
        "display('s')"
      ],
      "metadata": {
        "colab": {
          "base_uri": "https://localhost:8080/",
          "height": 35
        },
        "id": "E0lP-xOM689V",
        "outputId": "6240ceca-9fdd-4c8b-e4f7-1fd28194aa80"
      },
      "execution_count": null,
      "outputs": [
        {
          "output_type": "display_data",
          "data": {
            "text/plain": [
              "'s'"
            ],
            "application/vnd.google.colaboratory.intrinsic+json": {
              "type": "string"
            }
          },
          "metadata": {}
        }
      ]
    },
    {
      "cell_type": "code",
      "source": [
        "display = 78"
      ],
      "metadata": {
        "id": "9w_ntNBn79QC"
      },
      "execution_count": null,
      "outputs": []
    },
    {
      "cell_type": "code",
      "source": [
        "display('s')"
      ],
      "metadata": {
        "colab": {
          "base_uri": "https://localhost:8080/",
          "height": 166
        },
        "id": "KAWY5mI28E_G",
        "outputId": "abe0958f-ada0-4e88-ce03-55dcde7c4caf"
      },
      "execution_count": null,
      "outputs": [
        {
          "output_type": "error",
          "ename": "TypeError",
          "evalue": "ignored",
          "traceback": [
            "\u001b[0;31m---------------------------------------------------------------------------\u001b[0m",
            "\u001b[0;31mTypeError\u001b[0m                                 Traceback (most recent call last)",
            "\u001b[0;32m<ipython-input-23-f785c37c6866>\u001b[0m in \u001b[0;36m<module>\u001b[0;34m\u001b[0m\n\u001b[0;32m----> 1\u001b[0;31m \u001b[0mdisplay\u001b[0m\u001b[0;34m(\u001b[0m\u001b[0;34m's'\u001b[0m\u001b[0;34m)\u001b[0m\u001b[0;34m\u001b[0m\u001b[0;34m\u001b[0m\u001b[0m\n\u001b[0m",
            "\u001b[0;31mTypeError\u001b[0m: 'int' object is not callable"
          ]
        }
      ]
    },
    {
      "cell_type": "code",
      "source": [
        "del display"
      ],
      "metadata": {
        "id": "LWSl45398InK"
      },
      "execution_count": null,
      "outputs": []
    },
    {
      "cell_type": "code",
      "source": [
        "display('s')"
      ],
      "metadata": {
        "colab": {
          "base_uri": "https://localhost:8080/",
          "height": 35
        },
        "id": "j3zs3WbR8MPz",
        "outputId": "c63a206f-3d23-4d0c-bb4d-6149d93ca3a5"
      },
      "execution_count": null,
      "outputs": [
        {
          "output_type": "display_data",
          "data": {
            "text/plain": [
              "'s'"
            ],
            "application/vnd.google.colaboratory.intrinsic+json": {
              "type": "string"
            }
          },
          "metadata": {}
        }
      ]
    },
    {
      "cell_type": "markdown",
      "source": [
        "# Dynamic Typing"
      ],
      "metadata": {
        "id": "0RpD_LNw9duU"
      }
    },
    {
      "cell_type": "code",
      "source": [
        "a = 34\n",
        "print(id(a))\n",
        "print(id(34))"
      ],
      "metadata": {
        "colab": {
          "base_uri": "https://localhost:8080/"
        },
        "id": "XCz-iQZj8Oxe",
        "outputId": "57f7c90d-bb2e-4110-805a-eb57853ba8f7"
      },
      "execution_count": null,
      "outputs": [
        {
          "output_type": "stream",
          "name": "stdout",
          "text": [
            "139625140505936\n",
            "139625140505936\n"
          ]
        }
      ]
    },
    {
      "cell_type": "code",
      "source": [
        "b = 34\n",
        "print(id(b))"
      ],
      "metadata": {
        "colab": {
          "base_uri": "https://localhost:8080/"
        },
        "id": "OR39HLmj9n2T",
        "outputId": "eecc7af9-813e-4308-d63d-4d54b4950bdd"
      },
      "execution_count": null,
      "outputs": [
        {
          "output_type": "stream",
          "name": "stdout",
          "text": [
            "139625140505936\n"
          ]
        }
      ]
    },
    {
      "cell_type": "markdown",
      "source": [
        "# 7. Operators in Python\n",
        "## Arithmetic Operators \n",
        "  - + - * /\n",
        "  - % modulus : remiander of division \n",
        "  - // integer divide : quotient of division\n",
        "  - ** exponent : a to the power b ( 2 **2 = 4)\n",
        "## Assignment Operators \n",
        "  - = : destination = source\n",
        "  - += -= *= /= \n",
        "    - a =34\n",
        "    - a = a + 56 # updates the value of a while performing arithmetic operation\n",
        "    #### OR\n",
        "    - a = 34 \n",
        "    - a += 56"
      ],
      "metadata": {
        "id": "DlqP9PeA-Eg5"
      }
    },
    {
      "cell_type": "code",
      "source": [
        "a = 34\n",
        "a = a +56\n",
        "print(a)"
      ],
      "metadata": {
        "colab": {
          "base_uri": "https://localhost:8080/"
        },
        "id": "aViYIjt_95M7",
        "outputId": "8344de9d-ec62-4fb0-bbc1-135e7531ae7b"
      },
      "execution_count": null,
      "outputs": [
        {
          "output_type": "stream",
          "name": "stdout",
          "text": [
            "90\n"
          ]
        }
      ]
    },
    {
      "cell_type": "code",
      "source": [
        "a = 34\n",
        "a += 56\n",
        "print(a)"
      ],
      "metadata": {
        "colab": {
          "base_uri": "https://localhost:8080/"
        },
        "id": "uQ-Mm1CA-8l2",
        "outputId": "fa3eac16-5012-4a9e-f90e-1d6624d015a7"
      },
      "execution_count": null,
      "outputs": [
        {
          "output_type": "stream",
          "name": "stdout",
          "text": [
            "90\n"
          ]
        }
      ]
    },
    {
      "cell_type": "markdown",
      "source": [
        "# Relational , Logical and Mixed operators"
      ],
      "metadata": {
        "id": "-WPNdCR4_CGO"
      }
    },
    {
      "cell_type": "code",
      "source": [
        "a = 34\n",
        "print('id of a ', id(a))\n",
        "a += 56\n",
        "print(a)\n",
        "print('id of a ', id(a))\n"
      ],
      "metadata": {
        "colab": {
          "base_uri": "https://localhost:8080/"
        },
        "id": "ahQEO4ac-_Jb",
        "outputId": "82ac6275-85c6-46fa-d053-411c127fd039"
      },
      "execution_count": null,
      "outputs": [
        {
          "output_type": "stream",
          "name": "stdout",
          "text": [
            "id of a  139625140505936\n",
            "90\n",
            "id of a  139625140696208\n"
          ]
        }
      ]
    },
    {
      "cell_type": "code",
      "source": [
        "s = 78\n",
        "print(s)"
      ],
      "metadata": {
        "colab": {
          "base_uri": "https://localhost:8080/"
        },
        "id": "rWGjyAWB_Uwb",
        "outputId": "b622dc2a-d77c-44d4-f9ee-395af497d9b3"
      },
      "execution_count": null,
      "outputs": [
        {
          "output_type": "stream",
          "name": "stdout",
          "text": [
            "78\n"
          ]
        }
      ]
    },
    {
      "cell_type": "code",
      "source": [
        "s = \"string\"\n",
        "print(s)"
      ],
      "metadata": {
        "colab": {
          "base_uri": "https://localhost:8080/"
        },
        "id": "NCQfaMDK_s-0",
        "outputId": "26c74b28-20e2-4fc6-e376-e6fe876735c6"
      },
      "execution_count": null,
      "outputs": [
        {
          "output_type": "stream",
          "name": "stdout",
          "text": [
            "string\n"
          ]
        }
      ]
    },
    {
      "cell_type": "code",
      "source": [
        "del s"
      ],
      "metadata": {
        "id": "4XH1lpBH_xXY"
      },
      "execution_count": null,
      "outputs": []
    },
    {
      "cell_type": "code",
      "source": [
        "s"
      ],
      "metadata": {
        "colab": {
          "base_uri": "https://localhost:8080/",
          "height": 166
        },
        "id": "mGiJiGxBAcNd",
        "outputId": "52e3ecc0-abab-4881-862a-9016ee801e1a"
      },
      "execution_count": null,
      "outputs": [
        {
          "output_type": "error",
          "ename": "NameError",
          "evalue": "ignored",
          "traceback": [
            "\u001b[0;31m---------------------------------------------------------------------------\u001b[0m",
            "\u001b[0;31mNameError\u001b[0m                                 Traceback (most recent call last)",
            "\u001b[0;32m<ipython-input-36-ded5ba42480f>\u001b[0m in \u001b[0;36m<module>\u001b[0;34m\u001b[0m\n\u001b[0;32m----> 1\u001b[0;31m \u001b[0ms\u001b[0m\u001b[0;34m\u001b[0m\u001b[0;34m\u001b[0m\u001b[0m\n\u001b[0m",
            "\u001b[0;31mNameError\u001b[0m: name 's' is not defined"
          ]
        }
      ]
    },
    {
      "cell_type": "code",
      "source": [],
      "metadata": {
        "id": "KBwhFJShAc3J"
      },
      "execution_count": null,
      "outputs": []
    }
  ]
}