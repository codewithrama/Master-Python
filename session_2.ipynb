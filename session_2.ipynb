{
  "nbformat": 4,
  "nbformat_minor": 0,
  "metadata": {
    "colab": {
      "provenance": [],
      "include_colab_link": true
    },
    "kernelspec": {
      "name": "python3",
      "display_name": "Python 3"
    },
    "language_info": {
      "name": "python"
    }
  },
  "cells": [
    {
      "cell_type": "markdown",
      "metadata": {
        "id": "view-in-github",
        "colab_type": "text"
      },
      "source": [
        "<a href=\"https://colab.research.google.com/github/codewithrama/Master-Python/blob/main/session_2.ipynb\" target=\"_parent\"><img src=\"https://colab.research.google.com/assets/colab-badge.svg\" alt=\"Open In Colab\"/></a>"
      ]
    },
    {
      "cell_type": "markdown",
      "source": [
        "# **Python Strings**\n",
        "## ' ... ' \" ... \" ''' ....''' \"\"\" ... \"\"\""
      ],
      "metadata": {
        "id": "mSjjvOdyhHPd"
      }
    },
    {
      "cell_type": "code",
      "execution_count": null,
      "metadata": {
        "colab": {
          "base_uri": "https://localhost:8080/"
        },
        "id": "zAofeO5KhEdX",
        "outputId": "d98e882d-120f-479a-ae78-1396052027e4"
      },
      "outputs": [
        {
          "output_type": "stream",
          "name": "stdout",
          "text": [
            "Great Things come From SMAll BEginnINGS!\n"
          ]
        }
      ],
      "source": [
        "message = 'Great Things come From SMAll BEginnINGS!'\n",
        "print(message)"
      ]
    },
    {
      "cell_type": "code",
      "source": [
        "'You can't rise abive by pulling others down!!'"
      ],
      "metadata": {
        "colab": {
          "base_uri": "https://localhost:8080/",
          "height": 131
        },
        "id": "D--p0ZrKklts",
        "outputId": "a85310dc-c408-4eb1-b99b-9069e1abcdfb"
      },
      "execution_count": null,
      "outputs": [
        {
          "output_type": "error",
          "ename": "SyntaxError",
          "evalue": "ignored",
          "traceback": [
            "\u001b[0;36m  File \u001b[0;32m\"<ipython-input-2-55b7027a1313>\"\u001b[0;36m, line \u001b[0;32m1\u001b[0m\n\u001b[0;31m    'You can't rise abive by pulling others down!!'\u001b[0m\n\u001b[0m             ^\u001b[0m\n\u001b[0;31mSyntaxError\u001b[0m\u001b[0;31m:\u001b[0m invalid syntax\n"
          ]
        }
      ]
    },
    {
      "cell_type": "code",
      "source": [
        "'You can\\'t rise abive by pulling others down!!'"
      ],
      "metadata": {
        "id": "sSp40ldPk0lb"
      },
      "execution_count": null,
      "outputs": []
    },
    {
      "cell_type": "code",
      "source": [
        "message_2 = \"You can't rise abive by pulling others down!!\"\n",
        "print(message_2)"
      ],
      "metadata": {
        "colab": {
          "base_uri": "https://localhost:8080/"
        },
        "id": "Of7ZFg5tk8G2",
        "outputId": "10b4bda8-d95c-4f3a-dfc2-95a758278087"
      },
      "execution_count": null,
      "outputs": [
        {
          "output_type": "stream",
          "name": "stdout",
          "text": [
            "You can't rise abive by pulling others down!!\n"
          ]
        }
      ]
    },
    {
      "cell_type": "markdown",
      "source": [
        "### multiline strings "
      ],
      "metadata": {
        "id": "bFe7o5CalTId"
      }
    },
    {
      "cell_type": "code",
      "source": [
        "print(\"To be, or not to be, that is the question: \\\n",
        "Whether 'tis nobler in the mind to suffer \\\n",
        "The slings and arrows of outrageous fortune, \\\n",
        "Or to take Arms against a Sea of troubles, \\\n",
        "And by opposing end them:\")"
      ],
      "metadata": {
        "colab": {
          "base_uri": "https://localhost:8080/"
        },
        "id": "dbL2gnd9lCmM",
        "outputId": "6c08e900-fbc9-44d1-af12-b87fc337332e"
      },
      "execution_count": null,
      "outputs": [
        {
          "output_type": "stream",
          "name": "stdout",
          "text": [
            "To be, or not to be, that is the question:Whether 'tis nobler in the mind to suffer The slings and arrows of outrageous fortune, Or to take Arms against a Sea of troubles, And by opposing end them:\n"
          ]
        }
      ]
    },
    {
      "cell_type": "markdown",
      "source": [
        "# escape characters : \n",
        "  - \\n : new line\n",
        "  - \\t : tab space\n",
        "  - \\\" , \\'"
      ],
      "metadata": {
        "id": "n7NB0aPmlirx"
      }
    },
    {
      "cell_type": "code",
      "source": [
        "print(\"To be, or not to be, that is the question: \\n\\\n",
        "Whether 'tis nobler in the mind to suffer \\n\\\n",
        "The slings and arrows of outrageous fortune, \\n\\\n",
        "Or to take Arms against a Sea of troubles, \\n\\\n",
        "And by opposing end them:\")"
      ],
      "metadata": {
        "colab": {
          "base_uri": "https://localhost:8080/"
        },
        "id": "m_mIJlVeldpZ",
        "outputId": "e51d5f32-1880-43be-91de-fa9d32e1ad50"
      },
      "execution_count": null,
      "outputs": [
        {
          "output_type": "stream",
          "name": "stdout",
          "text": [
            "To be, or not to be, that is the question: \n",
            "Whether 'tis nobler in the mind to suffer \n",
            "The slings and arrows of outrageous fortune, \n",
            "Or to take Arms against a Sea of troubles, \n",
            "And by opposing end them:\n"
          ]
        }
      ]
    },
    {
      "cell_type": "code",
      "source": [
        "print('''To be, or not to be, that is the question: \n",
        "Whether 'tis nobler in the mind to suffer \n",
        "The slings and arrows of outrageous fortune, \n",
        "Or to take Arms against a Sea of troubles,\n",
        "And by opposing end them:''')"
      ],
      "metadata": {
        "colab": {
          "base_uri": "https://localhost:8080/"
        },
        "id": "5HCs2GZ-mCfs",
        "outputId": "fdcad1e2-eb74-4ca0-9539-4c5ad92e963a"
      },
      "execution_count": null,
      "outputs": [
        {
          "output_type": "stream",
          "name": "stdout",
          "text": [
            "To be, or not to be, that is the question: \n",
            "Whether 'tis nobler in the mind to suffer \n",
            "The slings and arrows of outrageous fortune, \n",
            "Or to take Arms against a Sea of troubles,\n",
            "And by opposing end them:\n"
          ]
        }
      ]
    },
    {
      "cell_type": "code",
      "source": [
        "message_3 = '''To be, or not to be, that is the question: \n",
        "Whether 'tis nobler in the mind to suffer \n",
        "The slings and arrows of outrageous fortune,\n",
        "Or to take Arms against a Sea of troubles, \n",
        "And by opposing end them:'''\n",
        "message_3"
      ],
      "metadata": {
        "colab": {
          "base_uri": "https://localhost:8080/",
          "height": 52
        },
        "id": "zvlbc8jgmLj6",
        "outputId": "3ddc7216-42f5-4258-b11b-df8054fab96e"
      },
      "execution_count": null,
      "outputs": [
        {
          "output_type": "execute_result",
          "data": {
            "text/plain": [
              "\"To be, or not to be, that is the question: \\nWhether 'tis nobler in the mind to suffer \\nThe slings and arrows of outrageous fortune,\\nOr to take Arms against a Sea of troubles, \\nAnd by opposing end them:\""
            ],
            "application/vnd.google.colaboratory.intrinsic+json": {
              "type": "string"
            }
          },
          "metadata": {},
          "execution_count": 10
        }
      ]
    },
    {
      "cell_type": "markdown",
      "source": [
        "## Strings are immutable objects"
      ],
      "metadata": {
        "id": "DG2iYtIZm_SD"
      }
    },
    {
      "cell_type": "code",
      "source": [
        "print(dir(message))"
      ],
      "metadata": {
        "colab": {
          "base_uri": "https://localhost:8080/"
        },
        "id": "xqCGfQ3RmUca",
        "outputId": "5acfc848-c4e7-4da0-a267-db7d292b102d"
      },
      "execution_count": null,
      "outputs": [
        {
          "output_type": "stream",
          "name": "stdout",
          "text": [
            "['__add__', '__class__', '__contains__', '__delattr__', '__dir__', '__doc__', '__eq__', '__format__', '__ge__', '__getattribute__', '__getitem__', '__getnewargs__', '__gt__', '__hash__', '__init__', '__init_subclass__', '__iter__', '__le__', '__len__', '__lt__', '__mod__', '__mul__', '__ne__', '__new__', '__reduce__', '__reduce_ex__', '__repr__', '__rmod__', '__rmul__', '__setattr__', '__sizeof__', '__str__', '__subclasshook__', 'capitalize', 'casefold', 'center', 'count', 'encode', 'endswith', 'expandtabs', 'find', 'format', 'format_map', 'index', 'isalnum', 'isalpha', 'isascii', 'isdecimal', 'isdigit', 'isidentifier', 'islower', 'isnumeric', 'isprintable', 'isspace', 'istitle', 'isupper', 'join', 'ljust', 'lower', 'lstrip', 'maketrans', 'partition', 'removeprefix', 'removesuffix', 'replace', 'rfind', 'rindex', 'rjust', 'rpartition', 'rsplit', 'rstrip', 'split', 'splitlines', 'startswith', 'strip', 'swapcase', 'title', 'translate', 'upper', 'zfill']\n"
          ]
        }
      ]
    },
    {
      "cell_type": "code",
      "source": [
        "help(message.upper)"
      ],
      "metadata": {
        "colab": {
          "base_uri": "https://localhost:8080/"
        },
        "id": "NwweSb1MnlUm",
        "outputId": "a7463a02-9d1b-4948-e05d-c836530fc3d6"
      },
      "execution_count": null,
      "outputs": [
        {
          "output_type": "stream",
          "name": "stdout",
          "text": [
            "Help on built-in function upper:\n",
            "\n",
            "upper() method of builtins.str instance\n",
            "    Return a copy of the string converted to uppercase.\n",
            "\n"
          ]
        }
      ]
    },
    {
      "cell_type": "code",
      "source": [
        "message.upper()"
      ],
      "metadata": {
        "colab": {
          "base_uri": "https://localhost:8080/",
          "height": 35
        },
        "id": "RE2jwOMwoKCu",
        "outputId": "141b9d6d-9d71-4bc3-94f8-4907f879db0a"
      },
      "execution_count": null,
      "outputs": [
        {
          "output_type": "execute_result",
          "data": {
            "text/plain": [
              "'GREAT THINGS COME FROM SMALL BEGINNINGS!'"
            ],
            "application/vnd.google.colaboratory.intrinsic+json": {
              "type": "string"
            }
          },
          "metadata": {},
          "execution_count": 14
        }
      ]
    },
    {
      "cell_type": "code",
      "source": [
        "name = 'NimiSha'\n",
        "name.upper()"
      ],
      "metadata": {
        "colab": {
          "base_uri": "https://localhost:8080/",
          "height": 35
        },
        "id": "KxSOjdSJoRng",
        "outputId": "21a8e4c4-6183-4a85-e271-a76d6349ef73"
      },
      "execution_count": null,
      "outputs": [
        {
          "output_type": "execute_result",
          "data": {
            "text/plain": [
              "'NIMISHA'"
            ],
            "application/vnd.google.colaboratory.intrinsic+json": {
              "type": "string"
            }
          },
          "metadata": {},
          "execution_count": 15
        }
      ]
    },
    {
      "cell_type": "code",
      "source": [
        "message.capitalize() # press tab"
      ],
      "metadata": {
        "colab": {
          "base_uri": "https://localhost:8080/",
          "height": 35
        },
        "id": "ehclub-HoY_a",
        "outputId": "8f2caa9b-7bba-4c9e-913c-484c9abe171d"
      },
      "execution_count": null,
      "outputs": [
        {
          "output_type": "execute_result",
          "data": {
            "text/plain": [
              "'Great things come from small beginnings!'"
            ],
            "application/vnd.google.colaboratory.intrinsic+json": {
              "type": "string"
            }
          },
          "metadata": {},
          "execution_count": 16
        }
      ]
    },
    {
      "cell_type": "code",
      "source": [
        "message.lower() # press shift + tab"
      ],
      "metadata": {
        "colab": {
          "base_uri": "https://localhost:8080/",
          "height": 35
        },
        "id": "EMVPL2pXpANY",
        "outputId": "ad2fe460-86ec-41b0-98f2-da53c3e44535"
      },
      "execution_count": null,
      "outputs": [
        {
          "output_type": "execute_result",
          "data": {
            "text/plain": [
              "'great things come from small beginnings!'"
            ],
            "application/vnd.google.colaboratory.intrinsic+json": {
              "type": "string"
            }
          },
          "metadata": {},
          "execution_count": 17
        }
      ]
    },
    {
      "cell_type": "markdown",
      "source": [
        "# take input from the user"
      ],
      "metadata": {
        "id": "VoXBOdpSqC1v"
      }
    },
    {
      "cell_type": "code",
      "source": [
        "scores = input(\"Please enter scores : \")"
      ],
      "metadata": {
        "colab": {
          "base_uri": "https://localhost:8080/"
        },
        "id": "QGFWGxp-pOaU",
        "outputId": "71252774-c2d4-44e2-b127-651ce27f15e3"
      },
      "execution_count": null,
      "outputs": [
        {
          "name": "stdout",
          "output_type": "stream",
          "text": [
            "Please enter scores : 45.87\n"
          ]
        }
      ]
    },
    {
      "cell_type": "code",
      "source": [
        "scores"
      ],
      "metadata": {
        "colab": {
          "base_uri": "https://localhost:8080/",
          "height": 35
        },
        "id": "uIVnhIooqNKf",
        "outputId": "8833e83a-8b84-43e2-b2f5-c22e562d861f"
      },
      "execution_count": null,
      "outputs": [
        {
          "output_type": "execute_result",
          "data": {
            "text/plain": [
              "'45.87'"
            ],
            "application/vnd.google.colaboratory.intrinsic+json": {
              "type": "string"
            }
          },
          "metadata": {},
          "execution_count": 20
        }
      ]
    },
    {
      "cell_type": "code",
      "source": [
        "print(type(scores))"
      ],
      "metadata": {
        "colab": {
          "base_uri": "https://localhost:8080/"
        },
        "id": "fAfqKAoJqT1m",
        "outputId": "2cf7bb76-93a0-4e38-ac8e-aea1f974d0b4"
      },
      "execution_count": null,
      "outputs": [
        {
          "output_type": "stream",
          "name": "stdout",
          "text": [
            "<class 'str'>\n"
          ]
        }
      ]
    },
    {
      "cell_type": "markdown",
      "source": [
        "# Type Conversions\n",
        " - ### int() , float(), str(), bool()"
      ],
      "metadata": {
        "id": "2SoRiz-Rqnj6"
      }
    },
    {
      "cell_type": "markdown",
      "source": [
        "#### all numeric data can be interconverted"
      ],
      "metadata": {
        "id": "coO0XUeEqw-9"
      }
    },
    {
      "cell_type": "code",
      "source": [
        "ex1 = 54\n",
        "ex2 = 45.67\n",
        "ex3 = True"
      ],
      "metadata": {
        "id": "uGXS6cazqfDv"
      },
      "execution_count": null,
      "outputs": []
    },
    {
      "cell_type": "code",
      "source": [
        "print(int(ex2), int(ex3))"
      ],
      "metadata": {
        "colab": {
          "base_uri": "https://localhost:8080/"
        },
        "id": "GS5_3xf-q3fV",
        "outputId": "90237532-44f0-4e1e-ee74-a96104e5b1e1"
      },
      "execution_count": null,
      "outputs": [
        {
          "output_type": "stream",
          "name": "stdout",
          "text": [
            "45 1\n"
          ]
        }
      ]
    },
    {
      "cell_type": "code",
      "source": [
        "print(float(ex1), float(ex3))"
      ],
      "metadata": {
        "colab": {
          "base_uri": "https://localhost:8080/"
        },
        "id": "Lqw9W7fDq6pa",
        "outputId": "3ffc8e63-6d4d-409a-b09f-7ad81f022438"
      },
      "execution_count": null,
      "outputs": [
        {
          "output_type": "stream",
          "name": "stdout",
          "text": [
            "54.0 1.0\n"
          ]
        }
      ]
    },
    {
      "cell_type": "code",
      "source": [],
      "metadata": {
        "colab": {
          "base_uri": "https://localhost:8080/"
        },
        "id": "8hhEYfX2rDQB",
        "outputId": "23f124e6-a6cd-4435-febf-d64e0418f419"
      },
      "execution_count": null,
      "outputs": [
        {
          "output_type": "stream",
          "name": "stdout",
          "text": [
            "True True\n"
          ]
        }
      ]
    },
    {
      "cell_type": "code",
      "source": [
        "round(ex2)"
      ],
      "metadata": {
        "colab": {
          "base_uri": "https://localhost:8080/"
        },
        "id": "6rEnomvJrJj6",
        "outputId": "f5fefdf8-00c1-41b0-e539-6d6f2b8478de"
      },
      "execution_count": null,
      "outputs": [
        {
          "output_type": "execute_result",
          "data": {
            "text/plain": [
              "46"
            ]
          },
          "metadata": {},
          "execution_count": 27
        }
      ]
    },
    {
      "cell_type": "code",
      "source": [
        "ex_2_1 = 45.3\n",
        "type(round(ex_2_1))"
      ],
      "metadata": {
        "colab": {
          "base_uri": "https://localhost:8080/"
        },
        "id": "ewWD6HgMrd0o",
        "outputId": "4984a01a-11af-4bf0-8206-85150e8cf3c7"
      },
      "execution_count": null,
      "outputs": [
        {
          "output_type": "execute_result",
          "data": {
            "text/plain": [
              "int"
            ]
          },
          "metadata": {},
          "execution_count": 29
        }
      ]
    },
    {
      "cell_type": "code",
      "source": [
        "print(bool(ex1), bool(ex3))"
      ],
      "metadata": {
        "colab": {
          "base_uri": "https://localhost:8080/"
        },
        "id": "U9jX1fUhriTe",
        "outputId": "62db75ec-0b2f-42db-9a44-4d54c601b463"
      },
      "execution_count": null,
      "outputs": [
        {
          "output_type": "stream",
          "name": "stdout",
          "text": [
            "True True\n"
          ]
        }
      ]
    },
    {
      "cell_type": "markdown",
      "source": [
        "## conversion to boolean\n",
        " - 0\n",
        " - None\n",
        " - ''\n",
        "### - translate to False"
      ],
      "metadata": {
        "id": "j1nmMd3OrwDc"
      }
    },
    {
      "cell_type": "code",
      "source": [
        "bool(0)"
      ],
      "metadata": {
        "colab": {
          "base_uri": "https://localhost:8080/"
        },
        "id": "JzntMqFkrsty",
        "outputId": "c56e0cfc-5a61-418f-a8ed-0ff901332fd5"
      },
      "execution_count": null,
      "outputs": [
        {
          "output_type": "execute_result",
          "data": {
            "text/plain": [
              "False"
            ]
          },
          "metadata": {},
          "execution_count": 31
        }
      ]
    },
    {
      "cell_type": "code",
      "source": [
        "bool(None)"
      ],
      "metadata": {
        "colab": {
          "base_uri": "https://localhost:8080/"
        },
        "id": "SH5LoKD8sBrM",
        "outputId": "90e9acd4-0227-453f-856a-936d3affcbc6"
      },
      "execution_count": null,
      "outputs": [
        {
          "output_type": "execute_result",
          "data": {
            "text/plain": [
              "False"
            ]
          },
          "metadata": {},
          "execution_count": 32
        }
      ]
    },
    {
      "cell_type": "code",
      "source": [
        "bool('')"
      ],
      "metadata": {
        "colab": {
          "base_uri": "https://localhost:8080/"
        },
        "id": "b8DY3ENdsDEZ",
        "outputId": "0f652473-5433-4392-809a-dd3ca64c4083"
      },
      "execution_count": null,
      "outputs": [
        {
          "output_type": "execute_result",
          "data": {
            "text/plain": [
              "False"
            ]
          },
          "metadata": {},
          "execution_count": 33
        }
      ]
    },
    {
      "cell_type": "markdown",
      "source": [
        "### all data can be converted to string"
      ],
      "metadata": {
        "id": "3SodJDEisKSE"
      }
    },
    {
      "cell_type": "code",
      "source": [
        "str(ex1)"
      ],
      "metadata": {
        "colab": {
          "base_uri": "https://localhost:8080/",
          "height": 35
        },
        "id": "vb7Q__dosGzd",
        "outputId": "41b42e28-1d61-405b-d2c4-74fcef2d4f57"
      },
      "execution_count": null,
      "outputs": [
        {
          "output_type": "execute_result",
          "data": {
            "text/plain": [
              "'54'"
            ],
            "application/vnd.google.colaboratory.intrinsic+json": {
              "type": "string"
            }
          },
          "metadata": {},
          "execution_count": 34
        }
      ]
    },
    {
      "cell_type": "code",
      "source": [
        "str(ex2)"
      ],
      "metadata": {
        "colab": {
          "base_uri": "https://localhost:8080/",
          "height": 35
        },
        "id": "JaaA7duSsO11",
        "outputId": "e30352ee-9bd1-43b7-ad37-29c0447168de"
      },
      "execution_count": null,
      "outputs": [
        {
          "output_type": "execute_result",
          "data": {
            "text/plain": [
              "'45.67'"
            ],
            "application/vnd.google.colaboratory.intrinsic+json": {
              "type": "string"
            }
          },
          "metadata": {},
          "execution_count": 35
        }
      ]
    },
    {
      "cell_type": "code",
      "source": [
        "str(ex3)"
      ],
      "metadata": {
        "colab": {
          "base_uri": "https://localhost:8080/",
          "height": 35
        },
        "id": "tKGTMOATsPmg",
        "outputId": "cc1e1ca9-f357-4a46-b0f1-2ce88dd2a196"
      },
      "execution_count": null,
      "outputs": [
        {
          "output_type": "execute_result",
          "data": {
            "text/plain": [
              "'True'"
            ],
            "application/vnd.google.colaboratory.intrinsic+json": {
              "type": "string"
            }
          },
          "metadata": {},
          "execution_count": 36
        }
      ]
    },
    {
      "cell_type": "markdown",
      "source": [
        "## conversion from string"
      ],
      "metadata": {
        "id": "XisRAyB3sS2s"
      }
    },
    {
      "cell_type": "code",
      "source": [
        "s1 = '23' # int value as string\n",
        "s2 = ' 45   ' # integer value with leading and trailing spaces\n",
        "s3 = ' -45' # integer value with leading spaces and negative sign at start\n",
        "s4 = '45 76' # two integer values with a space in between\n",
        "s5 = '98.77' # decimal value\n",
        "s6 = '6798j' # complex numbers\n",
        "s7 = '45 + 6j' # complex numbers\n",
        "s8 = '45+6j' # complex number"
      ],
      "metadata": {
        "id": "XxkSzB2csQU9"
      },
      "execution_count": null,
      "outputs": []
    },
    {
      "cell_type": "code",
      "source": [
        "s1 = '23' # int value as string\n",
        "v1 = int(s1)\n",
        "print(v1, ' -- ', type(v1))"
      ],
      "metadata": {
        "colab": {
          "base_uri": "https://localhost:8080/"
        },
        "id": "D5YodUxzsihJ",
        "outputId": "1c16a632-ff07-44ca-e826-ddb0fe15d1f3"
      },
      "execution_count": null,
      "outputs": [
        {
          "output_type": "stream",
          "name": "stdout",
          "text": [
            "23  --  <class 'int'>\n"
          ]
        }
      ]
    },
    {
      "cell_type": "code",
      "source": [
        "s2 = ' 45   ' # integer value with leading and trailing spaces\n",
        "v2 = int(s2)\n",
        "print(v2, ' -- ', type(v2))"
      ],
      "metadata": {
        "colab": {
          "base_uri": "https://localhost:8080/"
        },
        "id": "ddZC8ZAlslsv",
        "outputId": "c424faa2-d9b5-4aaf-b48a-f8a0c40e0f8e"
      },
      "execution_count": null,
      "outputs": [
        {
          "output_type": "stream",
          "name": "stdout",
          "text": [
            "45  --  <class 'int'>\n"
          ]
        }
      ]
    },
    {
      "cell_type": "code",
      "source": [
        "s3 = ' -45' # integer value with leading spaces and negative sign at start\n",
        "v3 = int(s3)\n",
        "print(v3, ' -- ', type(v3))"
      ],
      "metadata": {
        "colab": {
          "base_uri": "https://localhost:8080/"
        },
        "id": "XmWrTEUusqUD",
        "outputId": "68173188-a812-4ee0-f2e6-29fd364fefab"
      },
      "execution_count": null,
      "outputs": [
        {
          "output_type": "stream",
          "name": "stdout",
          "text": [
            "-45  --  <class 'int'>\n"
          ]
        }
      ]
    },
    {
      "cell_type": "code",
      "source": [
        "s4 = '45 76' # two integer values with a space in between\n",
        "v4 = int(s4)\n",
        "print(v4, ' -- ', type(v4))"
      ],
      "metadata": {
        "colab": {
          "base_uri": "https://localhost:8080/",
          "height": 201
        },
        "id": "NSy6jVaWsvNl",
        "outputId": "4ac9ab57-8742-4021-f85c-f4d2b016fd0e"
      },
      "execution_count": null,
      "outputs": [
        {
          "output_type": "error",
          "ename": "ValueError",
          "evalue": "ignored",
          "traceback": [
            "\u001b[0;31m---------------------------------------------------------------------------\u001b[0m",
            "\u001b[0;31mValueError\u001b[0m                                Traceback (most recent call last)",
            "\u001b[0;32m<ipython-input-41-dd8cc39141ba>\u001b[0m in \u001b[0;36m<module>\u001b[0;34m\u001b[0m\n\u001b[1;32m      1\u001b[0m \u001b[0ms4\u001b[0m \u001b[0;34m=\u001b[0m \u001b[0;34m'45 76'\u001b[0m \u001b[0;31m# two integer values with a space in between\u001b[0m\u001b[0;34m\u001b[0m\u001b[0;34m\u001b[0m\u001b[0m\n\u001b[0;32m----> 2\u001b[0;31m \u001b[0mv4\u001b[0m \u001b[0;34m=\u001b[0m \u001b[0mint\u001b[0m\u001b[0;34m(\u001b[0m\u001b[0ms4\u001b[0m\u001b[0;34m)\u001b[0m\u001b[0;34m\u001b[0m\u001b[0;34m\u001b[0m\u001b[0m\n\u001b[0m\u001b[1;32m      3\u001b[0m \u001b[0mprint\u001b[0m\u001b[0;34m(\u001b[0m\u001b[0mv4\u001b[0m\u001b[0;34m,\u001b[0m \u001b[0;34m' -- '\u001b[0m\u001b[0;34m,\u001b[0m \u001b[0mtype\u001b[0m\u001b[0;34m(\u001b[0m\u001b[0mv4\u001b[0m\u001b[0;34m)\u001b[0m\u001b[0;34m)\u001b[0m\u001b[0;34m\u001b[0m\u001b[0;34m\u001b[0m\u001b[0m\n",
            "\u001b[0;31mValueError\u001b[0m: invalid literal for int() with base 10: '45 76'"
          ]
        }
      ]
    },
    {
      "cell_type": "code",
      "source": [
        "s5 = '98.77' # decimal value\n",
        "v5 = int(s5)\n",
        "print(v5, ' -- ', type(v5))"
      ],
      "metadata": {
        "colab": {
          "base_uri": "https://localhost:8080/",
          "height": 201
        },
        "id": "UXdoqUrss77X",
        "outputId": "5f4710b8-ee11-486d-ee51-920500e1dd5c"
      },
      "execution_count": null,
      "outputs": [
        {
          "output_type": "error",
          "ename": "ValueError",
          "evalue": "ignored",
          "traceback": [
            "\u001b[0;31m---------------------------------------------------------------------------\u001b[0m",
            "\u001b[0;31mValueError\u001b[0m                                Traceback (most recent call last)",
            "\u001b[0;32m<ipython-input-42-c6fa587e0e42>\u001b[0m in \u001b[0;36m<module>\u001b[0;34m\u001b[0m\n\u001b[1;32m      1\u001b[0m \u001b[0ms5\u001b[0m \u001b[0;34m=\u001b[0m \u001b[0;34m'98.77'\u001b[0m \u001b[0;31m# decimal value\u001b[0m\u001b[0;34m\u001b[0m\u001b[0;34m\u001b[0m\u001b[0m\n\u001b[0;32m----> 2\u001b[0;31m \u001b[0mv5\u001b[0m \u001b[0;34m=\u001b[0m \u001b[0mint\u001b[0m\u001b[0;34m(\u001b[0m\u001b[0ms5\u001b[0m\u001b[0;34m)\u001b[0m\u001b[0;34m\u001b[0m\u001b[0;34m\u001b[0m\u001b[0m\n\u001b[0m\u001b[1;32m      3\u001b[0m \u001b[0mprint\u001b[0m\u001b[0;34m(\u001b[0m\u001b[0mv5\u001b[0m\u001b[0;34m,\u001b[0m \u001b[0;34m' -- '\u001b[0m\u001b[0;34m,\u001b[0m \u001b[0mtype\u001b[0m\u001b[0;34m(\u001b[0m\u001b[0mv5\u001b[0m\u001b[0;34m)\u001b[0m\u001b[0;34m)\u001b[0m\u001b[0;34m\u001b[0m\u001b[0;34m\u001b[0m\u001b[0m\n",
            "\u001b[0;31mValueError\u001b[0m: invalid literal for int() with base 10: '98.77'"
          ]
        }
      ]
    },
    {
      "cell_type": "code",
      "source": [
        "s5 = '98.77' # decimal value\n",
        "v5 = float(s5)\n",
        "print(v5, ' -- ', type(v5))"
      ],
      "metadata": {
        "colab": {
          "base_uri": "https://localhost:8080/"
        },
        "id": "F5jSxPjhtLsS",
        "outputId": "34b4bba0-2772-4389-d3fd-5b18498870c3"
      },
      "execution_count": null,
      "outputs": [
        {
          "output_type": "stream",
          "name": "stdout",
          "text": [
            "98.77  --  <class 'float'>\n"
          ]
        }
      ]
    },
    {
      "cell_type": "code",
      "source": [
        "s4 = '45 76' # two integer values with a space in between\n",
        "v4 = float(s4)\n",
        "print(v4, ' -- ', type(v4))"
      ],
      "metadata": {
        "colab": {
          "base_uri": "https://localhost:8080/",
          "height": 201
        },
        "id": "WQCrE6S6tkio",
        "outputId": "e6586c2e-e935-42dc-cfa1-70e94798b4c0"
      },
      "execution_count": null,
      "outputs": [
        {
          "output_type": "error",
          "ename": "ValueError",
          "evalue": "ignored",
          "traceback": [
            "\u001b[0;31m---------------------------------------------------------------------------\u001b[0m",
            "\u001b[0;31mValueError\u001b[0m                                Traceback (most recent call last)",
            "\u001b[0;32m<ipython-input-44-0987f21503f6>\u001b[0m in \u001b[0;36m<module>\u001b[0;34m\u001b[0m\n\u001b[1;32m      1\u001b[0m \u001b[0ms4\u001b[0m \u001b[0;34m=\u001b[0m \u001b[0;34m'45 76'\u001b[0m \u001b[0;31m# two integer values with a space in between\u001b[0m\u001b[0;34m\u001b[0m\u001b[0;34m\u001b[0m\u001b[0m\n\u001b[0;32m----> 2\u001b[0;31m \u001b[0mv4\u001b[0m \u001b[0;34m=\u001b[0m \u001b[0mfloat\u001b[0m\u001b[0;34m(\u001b[0m\u001b[0ms4\u001b[0m\u001b[0;34m)\u001b[0m\u001b[0;34m\u001b[0m\u001b[0;34m\u001b[0m\u001b[0m\n\u001b[0m\u001b[1;32m      3\u001b[0m \u001b[0mprint\u001b[0m\u001b[0;34m(\u001b[0m\u001b[0mv4\u001b[0m\u001b[0;34m,\u001b[0m \u001b[0;34m' -- '\u001b[0m\u001b[0;34m,\u001b[0m \u001b[0mtype\u001b[0m\u001b[0;34m(\u001b[0m\u001b[0mv4\u001b[0m\u001b[0;34m)\u001b[0m\u001b[0;34m)\u001b[0m\u001b[0;34m\u001b[0m\u001b[0;34m\u001b[0m\u001b[0m\n",
            "\u001b[0;31mValueError\u001b[0m: could not convert string to float: '45 76'"
          ]
        }
      ]
    },
    {
      "cell_type": "code",
      "source": [
        "s6 = '6798j' # a number with an alphabet\n",
        "s7 = '45 + 6j' # complex numbers\n",
        "s8 = '45+6j' # complex number"
      ],
      "metadata": {
        "id": "AFR3h9XUtrNZ"
      },
      "execution_count": null,
      "outputs": []
    },
    {
      "cell_type": "code",
      "source": [
        "float(s6)"
      ],
      "metadata": {
        "colab": {
          "base_uri": "https://localhost:8080/",
          "height": 166
        },
        "id": "YIJfOpAmtvTs",
        "outputId": "8c6b0a0a-3921-4cd2-bdc4-703e6106e967"
      },
      "execution_count": null,
      "outputs": [
        {
          "output_type": "error",
          "ename": "ValueError",
          "evalue": "ignored",
          "traceback": [
            "\u001b[0;31m---------------------------------------------------------------------------\u001b[0m",
            "\u001b[0;31mValueError\u001b[0m                                Traceback (most recent call last)",
            "\u001b[0;32m<ipython-input-48-420e9fde3cde>\u001b[0m in \u001b[0;36m<module>\u001b[0;34m\u001b[0m\n\u001b[0;32m----> 1\u001b[0;31m \u001b[0mfloat\u001b[0m\u001b[0;34m(\u001b[0m\u001b[0ms6\u001b[0m\u001b[0;34m)\u001b[0m\u001b[0;34m\u001b[0m\u001b[0;34m\u001b[0m\u001b[0m\n\u001b[0m",
            "\u001b[0;31mValueError\u001b[0m: could not convert string to float: '6798j'"
          ]
        }
      ]
    },
    {
      "cell_type": "code",
      "source": [
        "complex(s6)"
      ],
      "metadata": {
        "colab": {
          "base_uri": "https://localhost:8080/"
        },
        "id": "uoma_ebstxpY",
        "outputId": "425814b1-0e4b-4dfd-84fc-2a5ce4037ae9"
      },
      "execution_count": null,
      "outputs": [
        {
          "output_type": "execute_result",
          "data": {
            "text/plain": [
              "6798j"
            ]
          },
          "metadata": {},
          "execution_count": 49
        }
      ]
    },
    {
      "cell_type": "code",
      "source": [
        "complex(s7)"
      ],
      "metadata": {
        "colab": {
          "base_uri": "https://localhost:8080/",
          "height": 166
        },
        "id": "Nlxd98aFt-j3",
        "outputId": "4915d206-920d-4dd2-87e5-3786859a6afa"
      },
      "execution_count": null,
      "outputs": [
        {
          "output_type": "error",
          "ename": "ValueError",
          "evalue": "ignored",
          "traceback": [
            "\u001b[0;31m---------------------------------------------------------------------------\u001b[0m",
            "\u001b[0;31mValueError\u001b[0m                                Traceback (most recent call last)",
            "\u001b[0;32m<ipython-input-50-16d6fd692b9e>\u001b[0m in \u001b[0;36m<module>\u001b[0;34m\u001b[0m\n\u001b[0;32m----> 1\u001b[0;31m \u001b[0mcomplex\u001b[0m\u001b[0;34m(\u001b[0m\u001b[0ms7\u001b[0m\u001b[0;34m)\u001b[0m\u001b[0;34m\u001b[0m\u001b[0;34m\u001b[0m\u001b[0m\n\u001b[0m",
            "\u001b[0;31mValueError\u001b[0m: complex() arg is a malformed string"
          ]
        }
      ]
    },
    {
      "cell_type": "code",
      "source": [
        "complex(s8)"
      ],
      "metadata": {
        "colab": {
          "base_uri": "https://localhost:8080/"
        },
        "id": "XxPBtXpZuB3L",
        "outputId": "28d6743c-62ef-4156-f078-f21c174062bc"
      },
      "execution_count": null,
      "outputs": [
        {
          "output_type": "execute_result",
          "data": {
            "text/plain": [
              "(45+6j)"
            ]
          },
          "metadata": {},
          "execution_count": 51
        }
      ]
    },
    {
      "cell_type": "code",
      "source": [
        "scores = float(input('Please enter scores : '))\n",
        "scores"
      ],
      "metadata": {
        "colab": {
          "base_uri": "https://localhost:8080/"
        },
        "id": "91dY3NsvuEeC",
        "outputId": "b604d7db-f5a7-4af1-97b5-8dda0b596740"
      },
      "execution_count": null,
      "outputs": [
        {
          "name": "stdout",
          "output_type": "stream",
          "text": [
            "Please enter scores : 45.87\n"
          ]
        },
        {
          "output_type": "execute_result",
          "data": {
            "text/plain": [
              "45.87"
            ]
          },
          "metadata": {},
          "execution_count": 52
        }
      ]
    },
    {
      "cell_type": "markdown",
      "source": [
        "## unicode"
      ],
      "metadata": {
        "id": "N-nt6Exwuctb"
      }
    },
    {
      "cell_type": "code",
      "source": [
        "'A'"
      ],
      "metadata": {
        "colab": {
          "base_uri": "https://localhost:8080/",
          "height": 35
        },
        "id": "9YHwWABEuUfc",
        "outputId": "78338dfe-15f4-4771-b1f6-12ceac89fd8d"
      },
      "execution_count": null,
      "outputs": [
        {
          "output_type": "execute_result",
          "data": {
            "text/plain": [
              "'A'"
            ],
            "application/vnd.google.colaboratory.intrinsic+json": {
              "type": "string"
            }
          },
          "metadata": {},
          "execution_count": 53
        }
      ]
    },
    {
      "cell_type": "code",
      "source": [
        "ord('A')"
      ],
      "metadata": {
        "colab": {
          "base_uri": "https://localhost:8080/"
        },
        "id": "6EQGfLgmujLQ",
        "outputId": "fae78711-d667-4da1-fb74-56903d9956db"
      },
      "execution_count": null,
      "outputs": [
        {
          "output_type": "execute_result",
          "data": {
            "text/plain": [
              "65"
            ]
          },
          "metadata": {},
          "execution_count": 54
        }
      ]
    },
    {
      "cell_type": "code",
      "source": [
        "ord('a')"
      ],
      "metadata": {
        "colab": {
          "base_uri": "https://localhost:8080/"
        },
        "id": "hqG0WPn6ur_o",
        "outputId": "29b392db-9f11-40c1-f8cd-3d1afa06b007"
      },
      "execution_count": null,
      "outputs": [
        {
          "output_type": "execute_result",
          "data": {
            "text/plain": [
              "97"
            ]
          },
          "metadata": {},
          "execution_count": 55
        }
      ]
    },
    {
      "cell_type": "code",
      "source": [
        "chr(69)"
      ],
      "metadata": {
        "colab": {
          "base_uri": "https://localhost:8080/",
          "height": 35
        },
        "id": "H88fQUQ6uvMZ",
        "outputId": "f03914ea-20c3-4258-dd0e-51c972cdf88b"
      },
      "execution_count": null,
      "outputs": [
        {
          "output_type": "execute_result",
          "data": {
            "text/plain": [
              "'E'"
            ],
            "application/vnd.google.colaboratory.intrinsic+json": {
              "type": "string"
            }
          },
          "metadata": {},
          "execution_count": 56
        }
      ]
    },
    {
      "cell_type": "code",
      "source": [
        "chr(60)"
      ],
      "metadata": {
        "colab": {
          "base_uri": "https://localhost:8080/",
          "height": 35
        },
        "id": "hXDszySvuzE-",
        "outputId": "fcab4361-3898-435e-cd33-3accaf27dce3"
      },
      "execution_count": null,
      "outputs": [
        {
          "output_type": "execute_result",
          "data": {
            "text/plain": [
              "'<'"
            ],
            "application/vnd.google.colaboratory.intrinsic+json": {
              "type": "string"
            }
          },
          "metadata": {},
          "execution_count": 59
        }
      ]
    },
    {
      "cell_type": "markdown",
      "source": [
        "## access character within a string"
      ],
      "metadata": {
        "id": "GCNDMTTkvCZ2"
      }
    },
    {
      "cell_type": "code",
      "source": [
        "first_name = 'Nimisha'\n",
        "last_name = 'Pandey' "
      ],
      "metadata": {
        "id": "M4gs6LwEuz2u"
      },
      "execution_count": null,
      "outputs": []
    },
    {
      "cell_type": "code",
      "source": [
        "first_name[2]"
      ],
      "metadata": {
        "colab": {
          "base_uri": "https://localhost:8080/",
          "height": 35
        },
        "id": "rjE_Za7gvM-h",
        "outputId": "82041a18-4341-46ee-ff8f-d3bb14cf492d"
      },
      "execution_count": null,
      "outputs": [
        {
          "output_type": "execute_result",
          "data": {
            "text/plain": [
              "'m'"
            ],
            "application/vnd.google.colaboratory.intrinsic+json": {
              "type": "string"
            }
          },
          "metadata": {},
          "execution_count": 63
        }
      ]
    },
    {
      "cell_type": "markdown",
      "source": [
        "## indexing starts with 0 till len - 1\n",
        "|0 |1 |2 |3 |4 |5 |6 |\n",
        "|--|--|--|--|--|--|--|\n",
        "|N |i |m |i |s |h |a |"
      ],
      "metadata": {
        "id": "CfJDXhXBvLhP"
      }
    },
    {
      "cell_type": "code",
      "source": [
        "len(first_name)"
      ],
      "metadata": {
        "colab": {
          "base_uri": "https://localhost:8080/"
        },
        "id": "LmjqhYoGvJLb",
        "outputId": "495f0cc6-6cf5-4442-8b43-a1ce087d5158"
      },
      "execution_count": null,
      "outputs": [
        {
          "output_type": "execute_result",
          "data": {
            "text/plain": [
              "7"
            ]
          },
          "metadata": {},
          "execution_count": 64
        }
      ]
    },
    {
      "cell_type": "code",
      "source": [
        "first_name[3] = '$'"
      ],
      "metadata": {
        "colab": {
          "base_uri": "https://localhost:8080/",
          "height": 166
        },
        "id": "kXlEm42wvViO",
        "outputId": "c930f5a7-f112-4bb3-d695-878d983e4395"
      },
      "execution_count": null,
      "outputs": [
        {
          "output_type": "error",
          "ename": "TypeError",
          "evalue": "ignored",
          "traceback": [
            "\u001b[0;31m---------------------------------------------------------------------------\u001b[0m",
            "\u001b[0;31mTypeError\u001b[0m                                 Traceback (most recent call last)",
            "\u001b[0;32m<ipython-input-65-d645c3e958c0>\u001b[0m in \u001b[0;36m<module>\u001b[0;34m\u001b[0m\n\u001b[0;32m----> 1\u001b[0;31m \u001b[0mfirst_name\u001b[0m\u001b[0;34m[\u001b[0m\u001b[0;36m3\u001b[0m\u001b[0;34m]\u001b[0m \u001b[0;34m=\u001b[0m \u001b[0;34m'$'\u001b[0m\u001b[0;34m\u001b[0m\u001b[0;34m\u001b[0m\u001b[0m\n\u001b[0m",
            "\u001b[0;31mTypeError\u001b[0m: 'str' object does not support item assignment"
          ]
        }
      ]
    },
    {
      "cell_type": "markdown",
      "source": [
        "## concatenation of strings"
      ],
      "metadata": {
        "id": "MSwlgzq0vutk"
      }
    },
    {
      "cell_type": "code",
      "source": [
        "first_name + ' ' + last_name"
      ],
      "metadata": {
        "colab": {
          "base_uri": "https://localhost:8080/",
          "height": 35
        },
        "id": "24fpoiBsvt9G",
        "outputId": "1ecdb9b6-6c14-4ccc-cdea-e2305932fd77"
      },
      "execution_count": null,
      "outputs": [
        {
          "output_type": "execute_result",
          "data": {
            "text/plain": [
              "'Nimisha Pandey'"
            ],
            "application/vnd.google.colaboratory.intrinsic+json": {
              "type": "string"
            }
          },
          "metadata": {},
          "execution_count": 67
        }
      ]
    },
    {
      "cell_type": "code",
      "source": [
        "# 'character used to join the strings'.join([list of strings])\n",
        "' '.join([first_name , last_name])"
      ],
      "metadata": {
        "colab": {
          "base_uri": "https://localhost:8080/",
          "height": 35
        },
        "id": "bRbPIlOLvkQ3",
        "outputId": "4203058e-2aea-4fd6-b7eb-e2b5bc8eb4ee"
      },
      "execution_count": null,
      "outputs": [
        {
          "output_type": "execute_result",
          "data": {
            "text/plain": [
              "'Nimisha Pandey'"
            ],
            "application/vnd.google.colaboratory.intrinsic+json": {
              "type": "string"
            }
          },
          "metadata": {},
          "execution_count": 68
        }
      ]
    },
    {
      "cell_type": "code",
      "source": [
        "' $ '.join([first_name , last_name])"
      ],
      "metadata": {
        "colab": {
          "base_uri": "https://localhost:8080/",
          "height": 35
        },
        "id": "fvWKOqa5wIZS",
        "outputId": "63ec170e-f534-4964-c98e-d091da61b6f3"
      },
      "execution_count": null,
      "outputs": [
        {
          "output_type": "execute_result",
          "data": {
            "text/plain": [
              "'Nimisha $ Pandey'"
            ],
            "application/vnd.google.colaboratory.intrinsic+json": {
              "type": "string"
            }
          },
          "metadata": {},
          "execution_count": 69
        }
      ]
    },
    {
      "cell_type": "code",
      "source": [
        "name[0] # calling variable"
      ],
      "metadata": {
        "colab": {
          "base_uri": "https://localhost:8080/",
          "height": 35
        },
        "id": "LINaABwjwKKC",
        "outputId": "360f69a5-1601-41f8-fdda-b95cc7a92e15"
      },
      "execution_count": null,
      "outputs": [
        {
          "output_type": "execute_result",
          "data": {
            "text/plain": [
              "'N'"
            ],
            "application/vnd.google.colaboratory.intrinsic+json": {
              "type": "string"
            }
          },
          "metadata": {},
          "execution_count": 70
        }
      ]
    },
    {
      "cell_type": "code",
      "source": [
        "print(name[0]) # displaying the value"
      ],
      "metadata": {
        "colab": {
          "base_uri": "https://localhost:8080/"
        },
        "id": "PmAoYVhkwk3z",
        "outputId": "0eedac04-034e-42a0-a1aa-ee4155534e70"
      },
      "execution_count": null,
      "outputs": [
        {
          "output_type": "stream",
          "name": "stdout",
          "text": [
            "N\n"
          ]
        }
      ]
    },
    {
      "cell_type": "markdown",
      "source": [
        "## Sequences/ Collection : Data Structures\n",
        "    - sets         :  unordered collection of unique data values\n",
        "    - lists        :  ordered collection of data values and items\n",
        "    - tuples       :  ordered immutable collection of data values and items\n",
        "    - dictionaries :  unordered collection of key value pairs"
      ],
      "metadata": {
        "id": "jEWFuEnJy-J2"
      }
    },
    {
      "cell_type": "markdown",
      "source": [
        "# Sets :\n",
        "- **unordered** : no indexing order\n",
        "- **unique** : no duplicate elements"
      ],
      "metadata": {
        "id": "cN6myKYtz5a5"
      }
    },
    {
      "cell_type": "code",
      "source": [
        "new_set = {34, 87, False, 34, 'A', 21.45, 'A', 34, 'C', 'String', 'a', 'A', True }\n",
        "print(new_set)"
      ],
      "metadata": {
        "colab": {
          "base_uri": "https://localhost:8080/"
        },
        "id": "JD-eGmJtwoYA",
        "outputId": "f1f8515d-f68b-4d20-acee-f7f45a02588d"
      },
      "execution_count": null,
      "outputs": [
        {
          "output_type": "stream",
          "name": "stdout",
          "text": [
            "{False, True, 34, 'A', 'C', 'String', 21.45, 87, 'a'}\n"
          ]
        }
      ]
    },
    {
      "cell_type": "code",
      "source": [
        "new_set = {34, 87, 1, False, 34, 'A', 21.45, 'A', 34, 'C', 'String', 'a', 'A',0,  True }\n",
        "print(new_set)"
      ],
      "metadata": {
        "colab": {
          "base_uri": "https://localhost:8080/"
        },
        "id": "gS8W3Cku0Qu3",
        "outputId": "29495c1b-bfdd-45f9-cfe1-36dbdcae3721"
      },
      "execution_count": null,
      "outputs": [
        {
          "output_type": "stream",
          "name": "stdout",
          "text": [
            "{False, 1, 34, 'A', 'C', 'String', 21.45, 87, 'a'}\n"
          ]
        }
      ]
    },
    {
      "cell_type": "code",
      "source": [
        "print(dir(new_set))"
      ],
      "metadata": {
        "colab": {
          "base_uri": "https://localhost:8080/"
        },
        "id": "MvKxmWLW0f-T",
        "outputId": "2b1d3c85-4e53-46ae-9b52-180f6959f808"
      },
      "execution_count": null,
      "outputs": [
        {
          "output_type": "stream",
          "name": "stdout",
          "text": [
            "['__and__', '__class__', '__class_getitem__', '__contains__', '__delattr__', '__dir__', '__doc__', '__eq__', '__format__', '__ge__', '__getattribute__', '__gt__', '__hash__', '__iand__', '__init__', '__init_subclass__', '__ior__', '__isub__', '__iter__', '__ixor__', '__le__', '__len__', '__lt__', '__ne__', '__new__', '__or__', '__rand__', '__reduce__', '__reduce_ex__', '__repr__', '__ror__', '__rsub__', '__rxor__', '__setattr__', '__sizeof__', '__str__', '__sub__', '__subclasshook__', '__xor__', 'add', 'clear', 'copy', 'difference', 'difference_update', 'discard', 'intersection', 'intersection_update', 'isdisjoint', 'issubset', 'issuperset', 'pop', 'remove', 'symmetric_difference', 'symmetric_difference_update', 'union', 'update']\n"
          ]
        }
      ]
    },
    {
      "cell_type": "code",
      "source": [
        "new_set[0]"
      ],
      "metadata": {
        "colab": {
          "base_uri": "https://localhost:8080/",
          "height": 166
        },
        "id": "wsB5-vo_1Bph",
        "outputId": "dd13f516-9e05-426a-d7b7-d6e9bad4e731"
      },
      "execution_count": null,
      "outputs": [
        {
          "output_type": "error",
          "ename": "TypeError",
          "evalue": "ignored",
          "traceback": [
            "\u001b[0;31m---------------------------------------------------------------------------\u001b[0m",
            "\u001b[0;31mTypeError\u001b[0m                                 Traceback (most recent call last)",
            "\u001b[0;32m<ipython-input-75-ba067bd5a74b>\u001b[0m in \u001b[0;36m<module>\u001b[0;34m\u001b[0m\n\u001b[0;32m----> 1\u001b[0;31m \u001b[0mnew_set\u001b[0m\u001b[0;34m[\u001b[0m\u001b[0;36m0\u001b[0m\u001b[0;34m]\u001b[0m\u001b[0;34m\u001b[0m\u001b[0;34m\u001b[0m\u001b[0m\n\u001b[0m",
            "\u001b[0;31mTypeError\u001b[0m: 'set' object is not subscriptable"
          ]
        }
      ]
    },
    {
      "cell_type": "markdown",
      "source": [
        "## set functions\n",
        "    - add : only if the value is not present in the data\n",
        "    - remove : removes by value\n",
        "    - pop : removes one item at a time"
      ],
      "metadata": {
        "id": "yBT4Up330_pE"
      }
    },
    {
      "cell_type": "code",
      "source": [
        "print('before', new_set)\n",
        "new_set.add(\"a\")\n",
        "print('after', new_set)"
      ],
      "metadata": {
        "colab": {
          "base_uri": "https://localhost:8080/"
        },
        "id": "7qwHQRM_06sM",
        "outputId": "63e0a5f6-0854-4b6c-b9d0-0c276eed10d6"
      },
      "execution_count": null,
      "outputs": [
        {
          "output_type": "stream",
          "name": "stdout",
          "text": [
            "before {False, 1, 34, 'A', 'C', 'String', 21.45, 87, 'a'}\n",
            "after {False, 1, 34, 'A', 'C', 'String', 21.45, 87, 'a'}\n"
          ]
        }
      ]
    },
    {
      "cell_type": "code",
      "source": [
        "# check if the changes are at a new memory location or at the same place"
      ],
      "metadata": {
        "id": "FbQ3r0Q-1WcN"
      },
      "execution_count": null,
      "outputs": []
    },
    {
      "cell_type": "code",
      "source": [
        "print('before', new_set)\n",
        "new_set.add(\"insert\")\n",
        "print('after', new_set)"
      ],
      "metadata": {
        "colab": {
          "base_uri": "https://localhost:8080/"
        },
        "id": "4AHStE6d1bNb",
        "outputId": "b7a5710c-7e5d-4131-f183-46bee12a72cb"
      },
      "execution_count": null,
      "outputs": [
        {
          "output_type": "stream",
          "name": "stdout",
          "text": [
            "before {False, 1, 34, 'A', 'C', 'z', 'String', 21.45, 87, 'a'}\n",
            "after {False, 1, 34, 'A', 'C', 'z', 'String', 21.45, 87, 'insert', 'a'}\n"
          ]
        }
      ]
    },
    {
      "cell_type": "code",
      "source": [
        "print('before', new_set)\n",
        "new_set.remove(\"insert\")\n",
        "print('after', new_set)"
      ],
      "metadata": {
        "colab": {
          "base_uri": "https://localhost:8080/"
        },
        "id": "5ijPnsg_1lfr",
        "outputId": "8e940d09-b24a-474d-a8d3-d61e9bee2c3f"
      },
      "execution_count": null,
      "outputs": [
        {
          "output_type": "stream",
          "name": "stdout",
          "text": [
            "before {False, 1, 34, 'A', 'C', 'z', 'String', 21.45, 87, 'insert', 'a'}\n",
            "after {False, 1, 34, 'A', 'C', 'z', 'String', 21.45, 87, 'a'}\n"
          ]
        }
      ]
    },
    {
      "cell_type": "code",
      "source": [
        "print(new_set)"
      ],
      "metadata": {
        "colab": {
          "base_uri": "https://localhost:8080/"
        },
        "id": "XE4YEPLk14do",
        "outputId": "ee06b068-0614-4c42-e0a3-819404bee2e5"
      },
      "execution_count": null,
      "outputs": [
        {
          "output_type": "stream",
          "name": "stdout",
          "text": [
            "{'A', 'C', 'z', 'String', 21.45, 87, 'a'}\n"
          ]
        }
      ]
    },
    {
      "cell_type": "code",
      "source": [
        "new_set.pop()"
      ],
      "metadata": {
        "colab": {
          "base_uri": "https://localhost:8080/",
          "height": 35
        },
        "id": "ROruWlw41vsP",
        "outputId": "0f6e21e9-546b-492a-bf91-24388be85d4e"
      },
      "execution_count": null,
      "outputs": [
        {
          "output_type": "execute_result",
          "data": {
            "text/plain": [
              "'A'"
            ],
            "application/vnd.google.colaboratory.intrinsic+json": {
              "type": "string"
            }
          },
          "metadata": {},
          "execution_count": 89
        }
      ]
    },
    {
      "cell_type": "code",
      "source": [
        "print(new_set)"
      ],
      "metadata": {
        "colab": {
          "base_uri": "https://localhost:8080/"
        },
        "id": "Zt0unACc12L0",
        "outputId": "eba2feb9-f82e-46bb-de42-9dfe0f07e966"
      },
      "execution_count": null,
      "outputs": [
        {
          "output_type": "stream",
          "name": "stdout",
          "text": [
            "{34, 'A', 'C', 'z', 'String', 21.45, 87, 'a'}\n"
          ]
        }
      ]
    },
    {
      "cell_type": "code",
      "source": [
        "# create an empty set\n",
        "empty_set = set()"
      ],
      "metadata": {
        "id": "RX1lmCAR17Sp"
      },
      "execution_count": null,
      "outputs": []
    },
    {
      "cell_type": "markdown",
      "source": [
        "# set operations\n",
        " - intersection : common elements\n",
        " - union : all elements combined\n",
        " - and difference : uncommon elements"
      ],
      "metadata": {
        "id": "QvUXsSeb2SkD"
      }
    },
    {
      "cell_type": "code",
      "source": [
        "b1 = {'apples', 'bananas', 'tomatoes', 'potato', 'bread', 'jam', 'butter'}\n",
        "b2 = {'bread', 'eggs', 'jam', 'butter', 'grapes', 'oranges', 'apples', 'rice'}"
      ],
      "metadata": {
        "id": "M8TtZQN92Jjx"
      },
      "execution_count": null,
      "outputs": []
    },
    {
      "cell_type": "code",
      "source": [
        "print(b1.intersection(b2))"
      ],
      "metadata": {
        "colab": {
          "base_uri": "https://localhost:8080/"
        },
        "id": "OV5WL6uZ2mGF",
        "outputId": "79d9923b-c3b4-40ac-8ad6-7ce0a93f4560"
      },
      "execution_count": null,
      "outputs": [
        {
          "output_type": "execute_result",
          "data": {
            "text/plain": [
              "{'apples', 'bread', 'butter', 'jam'}"
            ]
          },
          "metadata": {},
          "execution_count": 92
        }
      ]
    },
    {
      "cell_type": "code",
      "source": [
        "print(b1.union(b2))"
      ],
      "metadata": {
        "colab": {
          "base_uri": "https://localhost:8080/"
        },
        "id": "UJwHRRVT2pzg",
        "outputId": "b3384090-8e08-4795-9b68-cadb603415de"
      },
      "execution_count": null,
      "outputs": [
        {
          "output_type": "stream",
          "name": "stdout",
          "text": [
            "{'jam', 'rice', 'eggs', 'potato', 'butter', 'grapes', 'bananas', 'tomatoes', 'apples', 'bread', 'oranges'}\n"
          ]
        }
      ]
    },
    {
      "cell_type": "code",
      "source": [
        "print(b1.difference(b2)) # elements present b1 absent in b2"
      ],
      "metadata": {
        "colab": {
          "base_uri": "https://localhost:8080/"
        },
        "id": "BMA14Adu25o5",
        "outputId": "fead9acd-75f1-4b0f-fbce-ac08366bc88b"
      },
      "execution_count": null,
      "outputs": [
        {
          "output_type": "stream",
          "name": "stdout",
          "text": [
            "{'bananas', 'tomatoes', 'potato'}\n"
          ]
        }
      ]
    },
    {
      "cell_type": "code",
      "source": [
        "print(b2.difference(b1)) # elements present b2 absent in b1"
      ],
      "metadata": {
        "colab": {
          "base_uri": "https://localhost:8080/"
        },
        "id": "DaIj3bPA3HJ1",
        "outputId": "9bf2a01f-5f9b-4553-f79d-f621b0ab34c7"
      },
      "execution_count": null,
      "outputs": [
        {
          "output_type": "stream",
          "name": "stdout",
          "text": [
            "{'grapes', 'rice', 'eggs', 'oranges'}\n"
          ]
        }
      ]
    },
    {
      "cell_type": "code",
      "source": [
        "print(b1.symmetric_difference(b2)) # uncommon elements "
      ],
      "metadata": {
        "colab": {
          "base_uri": "https://localhost:8080/"
        },
        "id": "BSNf0xCO3Qrj",
        "outputId": "e78e53a6-3e4b-4e8c-b9ae-67e401f98500"
      },
      "execution_count": null,
      "outputs": [
        {
          "output_type": "stream",
          "name": "stdout",
          "text": [
            "{'rice', 'eggs', 'potato', 'grapes', 'bananas', 'tomatoes', 'oranges'}\n"
          ]
        }
      ]
    },
    {
      "cell_type": "code",
      "source": [
        "# update : add multiple elements to the set\n",
        "# intersection_update\n",
        "# union_update"
      ],
      "metadata": {
        "id": "td6FH6cd3WCS"
      },
      "execution_count": null,
      "outputs": []
    },
    {
      "cell_type": "markdown",
      "source": [
        "# list"
      ],
      "metadata": {
        "id": "rvrKnqsi4G2h"
      }
    },
    {
      "cell_type": "code",
      "source": [
        "list_example = [ 34, 'String', 'Hi Welcome to Python Programming', 'True', 'True', True, 1]"
      ],
      "metadata": {
        "id": "Lej4_rSw39wU"
      },
      "execution_count": null,
      "outputs": []
    },
    {
      "cell_type": "code",
      "source": [
        "print(list_example)"
      ],
      "metadata": {
        "colab": {
          "base_uri": "https://localhost:8080/"
        },
        "id": "LX8ScYf24S1u",
        "outputId": "4911dfb3-1d53-4e6a-fc8e-47053db51b16"
      },
      "execution_count": null,
      "outputs": [
        {
          "output_type": "stream",
          "name": "stdout",
          "text": [
            "[34, 'String', 'Hi Welcome to Python Programming', 'True', 'True', True, 1]\n"
          ]
        }
      ]
    },
    {
      "cell_type": "code",
      "source": [
        "l2 = [34, 'Nimisha', 'Vrishank', [23, 'Samaira'], {45, 78, 90, 45,90}, 34, 23]\n",
        "print(l2)"
      ],
      "metadata": {
        "colab": {
          "base_uri": "https://localhost:8080/"
        },
        "id": "DNWYkom04UJ0",
        "outputId": "3540dd53-7949-4f46-8b51-cd50f54b8245"
      },
      "execution_count": null,
      "outputs": [
        {
          "output_type": "stream",
          "name": "stdout",
          "text": [
            "[34, 'Nimisha', 'Vrishank', [23, 'Samaira'], {90, 45, 78}, 34, 23]\n"
          ]
        }
      ]
    },
    {
      "cell_type": "markdown",
      "source": [
        "## access elements in a list"
      ],
      "metadata": {
        "id": "e5Hx0MQX4yd5"
      }
    },
    {
      "cell_type": "code",
      "source": [
        "print(\"first element :\", l2[0])\n",
        "print(\"secnd element :\", l2[1])\n",
        "print(\"third element :\", l2[2])"
      ],
      "metadata": {
        "colab": {
          "base_uri": "https://localhost:8080/"
        },
        "id": "hUPAAeJ44iZC",
        "outputId": "e1e2d63c-cd56-4d65-d8de-540b20ceb948"
      },
      "execution_count": null,
      "outputs": [
        {
          "output_type": "stream",
          "name": "stdout",
          "text": [
            "first element : 34\n",
            "secnd element : Nimisha\n",
            "third element : Vrishank\n"
          ]
        }
      ]
    },
    {
      "cell_type": "markdown",
      "source": [
        "|0|1|2|3|4|5|6|\n",
        "|-- |--| -| --| -| -|-|\n",
        "|34 |'Nimisha'| 'Vrishank'| [23,'Samaira']| {45, 78, 90, 45,90}| 34|23|\n",
        "|-7|-6|-5|-4|-3|-2|-1|"
      ],
      "metadata": {
        "id": "EvIFxPPK5AlB"
      }
    },
    {
      "cell_type": "code",
      "source": [
        "l2[2]"
      ],
      "metadata": {
        "colab": {
          "base_uri": "https://localhost:8080/",
          "height": 35
        },
        "id": "5tIp1CWc49Vi",
        "outputId": "bc7a2d81-aa15-4023-86d3-8ea3f0df69a9"
      },
      "execution_count": null,
      "outputs": [
        {
          "output_type": "execute_result",
          "data": {
            "text/plain": [
              "'Vrishank'"
            ],
            "application/vnd.google.colaboratory.intrinsic+json": {
              "type": "string"
            }
          },
          "metadata": {},
          "execution_count": 105
        }
      ]
    },
    {
      "cell_type": "code",
      "source": [
        "l2[-5]"
      ],
      "metadata": {
        "colab": {
          "base_uri": "https://localhost:8080/",
          "height": 35
        },
        "id": "2rKEqngv5Z1a",
        "outputId": "50ce9bef-b233-4a01-ac33-df5fdb539196"
      },
      "execution_count": null,
      "outputs": [
        {
          "output_type": "execute_result",
          "data": {
            "text/plain": [
              "'Vrishank'"
            ],
            "application/vnd.google.colaboratory.intrinsic+json": {
              "type": "string"
            }
          },
          "metadata": {},
          "execution_count": 107
        }
      ]
    },
    {
      "cell_type": "markdown",
      "source": [
        "## Slicing\n"
      ],
      "metadata": {
        "id": "OqioBt_T5ubG"
      }
    },
    {
      "cell_type": "code",
      "source": [
        "new_list = ['a', 1, 'b', 2, 'c', 3, 'd', 4, 'e', 5, 'f', 6, 'g', 7]\n",
        "len(new_list)"
      ],
      "metadata": {
        "colab": {
          "base_uri": "https://localhost:8080/"
        },
        "id": "n5IooMU15bZb",
        "outputId": "a3b049d4-99de-42ff-84c9-2fc07c4419ce"
      },
      "execution_count": null,
      "outputs": [
        {
          "output_type": "execute_result",
          "data": {
            "text/plain": [
              "14"
            ]
          },
          "metadata": {},
          "execution_count": 110
        }
      ]
    },
    {
      "cell_type": "markdown",
      "source": [
        "new_list[start : stop : step]\n",
        "  - default for start = 0 \n",
        "  - default for stop  = len(list)\n",
        "  - deafult for step  = +1\n",
        "- *stop index is excluded*"
      ],
      "metadata": {
        "id": "IrON1d9R6EGZ"
      }
    },
    {
      "cell_type": "markdown",
      "source": [
        "|0|1|2|3|4|5|6|7|8|9|10|11|12|13|\n",
        "|-- |--| --| --| -| -|-|-- |--| --| --| -| -|-|\n",
        "|'a'| 1| 'b'| 2| 'c'| 3| 'd'| 4| 'e'| 5| 'f'| 6| 'g'| 7|\n",
        "|-14|-13|-12|-11|-10|-9|-8|-7|-6|-5|-4|-3|-2|-1|"
      ],
      "metadata": {
        "id": "1vfVY4tJ6ikj"
      }
    },
    {
      "cell_type": "code",
      "source": [
        "print(new_list[2 : 9: 1])"
      ],
      "metadata": {
        "colab": {
          "base_uri": "https://localhost:8080/"
        },
        "id": "n2mW-zGu51b_",
        "outputId": "c173ad71-2911-48bc-9e57-dd245fabbe21"
      },
      "execution_count": null,
      "outputs": [
        {
          "output_type": "stream",
          "name": "stdout",
          "text": [
            "['b', 2, 'c', 3, 'd', 4, 'e']\n"
          ]
        }
      ]
    },
    {
      "cell_type": "code",
      "source": [
        "print(new_list[ : 9])"
      ],
      "metadata": {
        "colab": {
          "base_uri": "https://localhost:8080/"
        },
        "id": "YXhkAzzP6cYG",
        "outputId": "fa3b8b9e-669f-4f24-c752-ef83aef97882"
      },
      "execution_count": null,
      "outputs": [
        {
          "output_type": "stream",
          "name": "stdout",
          "text": [
            "['a', 1, 'b', 2, 'c', 3, 'd', 4, 'e']\n"
          ]
        }
      ]
    },
    {
      "cell_type": "code",
      "source": [
        "print(new_list[ 2 : 14])"
      ],
      "metadata": {
        "colab": {
          "base_uri": "https://localhost:8080/"
        },
        "id": "pRsMzjX57PeX",
        "outputId": "9630dee3-1340-440c-8926-899d8aa635bb"
      },
      "execution_count": null,
      "outputs": [
        {
          "output_type": "stream",
          "name": "stdout",
          "text": [
            "['b', 2, 'c', 3, 'd', 4, 'e', 5, 'f', 6, 'g', 7]\n"
          ]
        }
      ]
    },
    {
      "cell_type": "code",
      "source": [
        "print(new_list[ 2 : 14])"
      ],
      "metadata": {
        "id": "Mepcigpo7gje"
      },
      "execution_count": null,
      "outputs": []
    },
    {
      "cell_type": "markdown",
      "source": [
        "### step :\n",
        "    if start index < stop index : step should be positive\n",
        "    if start index > stop index : step should be negative"
      ],
      "metadata": {
        "id": "HVoxTsCg7Znf"
      }
    },
    {
      "cell_type": "markdown",
      "source": [
        "|0|1|2|3|4|5|6|7|8|9|10|11|12|13|\n",
        "|-- |--| --| --| -| -|-|-- |--| --| --| -| -|-|\n",
        "|'a'| 1| 'b'| 2| 'c'| 3| 'd'| 4| 'e'| 5| 'f'| 6| 'g'| 7|\n",
        "|-14|-13|-12|-11|-10|-9|-8|-7|-6|-5|-4|-3|-2|-1|"
      ],
      "metadata": {
        "id": "pH_ao_Td7niN"
      }
    },
    {
      "cell_type": "code",
      "source": [
        "new_list[2 : 13 : 2]"
      ],
      "metadata": {
        "colab": {
          "base_uri": "https://localhost:8080/"
        },
        "id": "LLeoqh_c7SQM",
        "outputId": "4320958e-c979-4e94-860e-c0f04100e713"
      },
      "execution_count": null,
      "outputs": [
        {
          "output_type": "execute_result",
          "data": {
            "text/plain": [
              "['b', 'c', 'd', 'e', 'f', 'g']"
            ]
          },
          "metadata": {},
          "execution_count": 116
        }
      ]
    },
    {
      "cell_type": "code",
      "source": [
        "new_list[13 : 2 : -2]"
      ],
      "metadata": {
        "colab": {
          "base_uri": "https://localhost:8080/"
        },
        "id": "dQ2d7KVa73Bl",
        "outputId": "4af679e3-aad7-4ed1-c966-969083f36866"
      },
      "execution_count": null,
      "outputs": [
        {
          "output_type": "execute_result",
          "data": {
            "text/plain": [
              "[7, 6, 5, 4, 3, 2]"
            ]
          },
          "metadata": {},
          "execution_count": 117
        }
      ]
    },
    {
      "cell_type": "markdown",
      "source": [
        "## try with negative indexing "
      ],
      "metadata": {
        "id": "EhH8kDia8NYc"
      }
    },
    {
      "cell_type": "code",
      "source": [
        "new_list[-1 : -12 : -2]"
      ],
      "metadata": {
        "colab": {
          "base_uri": "https://localhost:8080/"
        },
        "id": "tGlyLRsi7_mR",
        "outputId": "026af13f-3c52-4656-cb18-d0c7d0064858"
      },
      "execution_count": null,
      "outputs": [
        {
          "output_type": "execute_result",
          "data": {
            "text/plain": [
              "[7, 6, 5, 4, 3, 2]"
            ]
          },
          "metadata": {},
          "execution_count": 118
        }
      ]
    },
    {
      "cell_type": "code",
      "source": [
        "new_list[-12 : -1 : 2]"
      ],
      "metadata": {
        "colab": {
          "base_uri": "https://localhost:8080/"
        },
        "id": "DNWIvra6_mXv",
        "outputId": "a73edab7-644d-4ea1-cd73-14905b87df3d"
      },
      "execution_count": null,
      "outputs": [
        {
          "output_type": "execute_result",
          "data": {
            "text/plain": [
              "['b', 'c', 'd', 'e', 'f', 'g']"
            ]
          },
          "metadata": {},
          "execution_count": 119
        }
      ]
    },
    {
      "cell_type": "markdown",
      "source": [
        "## functions of lists\n",
        "- append : adds a single element at the end of the list\n",
        "- extend : concatenates two lists\n",
        "- insert : inserts an element before a given index\n",
        "\n",
        "#### update the existing list : no new list is being return"
      ],
      "metadata": {
        "id": "j-6r_LaTAFlL"
      }
    },
    {
      "cell_type": "code",
      "source": [
        "new_list"
      ],
      "metadata": {
        "colab": {
          "base_uri": "https://localhost:8080/"
        },
        "id": "TMkoS93w_p9n",
        "outputId": "96254fde-25e9-4b04-9e24-e4bdf975a35c"
      },
      "execution_count": null,
      "outputs": [
        {
          "output_type": "execute_result",
          "data": {
            "text/plain": [
              "['a', 1, 'b', 2, 'c', 3, 'd', 4, 'e', 5, 'f', 6, 'g', 7]"
            ]
          },
          "metadata": {},
          "execution_count": 120
        }
      ]
    },
    {
      "cell_type": "code",
      "source": [
        "new_list.append('h')"
      ],
      "metadata": {
        "id": "JTTEll-0AXdq"
      },
      "execution_count": null,
      "outputs": []
    },
    {
      "cell_type": "code",
      "source": [
        "new_list"
      ],
      "metadata": {
        "colab": {
          "base_uri": "https://localhost:8080/"
        },
        "id": "DTt2VoxcAZj9",
        "outputId": "30a53c68-fc38-4996-fc02-4b117fc28623"
      },
      "execution_count": null,
      "outputs": [
        {
          "output_type": "execute_result",
          "data": {
            "text/plain": [
              "['a', 1, 'b', 2, 'c', 3, 'd', 4, 'e', 5, 'f', 6, 'g', 7, 'h']"
            ]
          },
          "metadata": {},
          "execution_count": 122
        }
      ]
    },
    {
      "cell_type": "code",
      "source": [
        "new_list.append(8)\n",
        "new_list"
      ],
      "metadata": {
        "colab": {
          "base_uri": "https://localhost:8080/"
        },
        "id": "YfhZSNWzAcAl",
        "outputId": "4b2caf6b-4879-4fe8-be99-f12794046806"
      },
      "execution_count": null,
      "outputs": [
        {
          "output_type": "execute_result",
          "data": {
            "text/plain": [
              "['a', 1, 'b', 2, 'c', 3, 'd', 4, 'e', 5, 'f', 6, 'g', 7, 'h', 8]"
            ]
          },
          "metadata": {},
          "execution_count": 123
        }
      ]
    },
    {
      "cell_type": "code",
      "source": [
        "new_list.append(['i', 9])\n",
        "new_list"
      ],
      "metadata": {
        "colab": {
          "base_uri": "https://localhost:8080/"
        },
        "id": "XLq1Ew7PAgV1",
        "outputId": "e22a73a4-c47f-4db3-f8ea-78804a0e9de4"
      },
      "execution_count": null,
      "outputs": [
        {
          "output_type": "execute_result",
          "data": {
            "text/plain": [
              "['a', 1, 'b', 2, 'c', 3, 'd', 4, 'e', 5, 'f', 6, 'g', 7, 'h', 8, ['i', 9]]"
            ]
          },
          "metadata": {},
          "execution_count": 124
        }
      ]
    },
    {
      "cell_type": "code",
      "source": [
        "len(new_list)"
      ],
      "metadata": {
        "colab": {
          "base_uri": "https://localhost:8080/"
        },
        "id": "MNb4cCk2AnKk",
        "outputId": "d8ff9797-752c-4dba-a65a-cbd39fe65899"
      },
      "execution_count": null,
      "outputs": [
        {
          "output_type": "execute_result",
          "data": {
            "text/plain": [
              "17"
            ]
          },
          "metadata": {},
          "execution_count": 125
        }
      ]
    },
    {
      "cell_type": "code",
      "source": [
        "new_list.extend(['i', 9])"
      ],
      "metadata": {
        "id": "CeZ-QkT1AvgU"
      },
      "execution_count": null,
      "outputs": []
    },
    {
      "cell_type": "code",
      "source": [
        "print(new_list)"
      ],
      "metadata": {
        "colab": {
          "base_uri": "https://localhost:8080/"
        },
        "id": "oFJMROzvA2G-",
        "outputId": "e7c1070e-4a43-45fe-9b89-5bdc75ba8bb2"
      },
      "execution_count": null,
      "outputs": [
        {
          "output_type": "stream",
          "name": "stdout",
          "text": [
            "['a', 1, 'b', 2, 'c', 3, 'd', 4, 'e', 5, 'f', 6, 'g', 7, 'h', 8, ['i', 9], 'i', 9]\n"
          ]
        }
      ]
    },
    {
      "cell_type": "markdown",
      "source": [
        "|0|1|2|3|4|5|6|7|8|9|10|11|12|13|14|15|16|17|\n",
        "|-- |--| --| --| -| -|-|-- |--| --| --| -| -|-|-|-|-|-|\n",
        "|'a'| 1| 'b'| 2| 'c'| 3| 'd'| 4| 'e'| 5| 'f'| 6| 'g'| 7|'h'|8|['i',9]|'i'|9|"
      ],
      "metadata": {
        "id": "OUExnajfA_qC"
      }
    },
    {
      "cell_type": "code",
      "source": [
        "new_list.insert(4, \"insert\")"
      ],
      "metadata": {
        "id": "1hJJ6t2VA4-d"
      },
      "execution_count": null,
      "outputs": []
    },
    {
      "cell_type": "code",
      "source": [
        "print(new_list)"
      ],
      "metadata": {
        "colab": {
          "base_uri": "https://localhost:8080/"
        },
        "id": "QNljTo-4BYVd",
        "outputId": "9de3f0b1-f218-433a-836f-9232708ff47b"
      },
      "execution_count": null,
      "outputs": [
        {
          "output_type": "stream",
          "name": "stdout",
          "text": [
            "['a', 1, 'b', 2, 'insert', 'c', 3, 'd', 4, 'e', 5, 'f', 6, 'g', 7, 'h', 8, ['i', 9], 'i', 9]\n"
          ]
        }
      ]
    },
    {
      "cell_type": "markdown",
      "source": [
        "|0|1|2|3|4|5|6|7|8|9|10|11|12|13|14|15|16|17|18|19|\n",
        "|-- |--| --| --| -| -|-|-- |--| --| --| -| -|-|-|-|-|-|-|-|\n",
        "|'a'| 1| 'b'| 2|'insert'| 'c'| 3| 'd'| 4| 'e'| 5| 'f'| 6| 'g'| 7|'h'|8|['i',9]|'i'|9|"
      ],
      "metadata": {
        "id": "0tX8Nk9tBaba"
      }
    },
    {
      "cell_type": "markdown",
      "source": [
        "    - remove : removes by element\n",
        "    - pop  : removes by index and will return the element removed"
      ],
      "metadata": {
        "id": "AXQ8wiFoBoPK"
      }
    },
    {
      "cell_type": "code",
      "source": [
        "print(new_list)"
      ],
      "metadata": {
        "colab": {
          "base_uri": "https://localhost:8080/"
        },
        "id": "A9X2HWrpB1pZ",
        "outputId": "bab5b55e-b6a8-4f78-99ff-c6533d63b730"
      },
      "execution_count": null,
      "outputs": [
        {
          "output_type": "stream",
          "name": "stdout",
          "text": [
            "['a', 1, 'b', 2, 'insert', 'c', 3, 'd', 4, 'e', 5, 'f', 6, 'g', 7, 'h', 8, ['i', 9], 'i', 9]\n"
          ]
        }
      ]
    },
    {
      "cell_type": "code",
      "source": [
        "new_list.remove('insert')"
      ],
      "metadata": {
        "id": "h2AirlQkCGV0"
      },
      "execution_count": null,
      "outputs": []
    },
    {
      "cell_type": "code",
      "source": [
        "print(new_list)"
      ],
      "metadata": {
        "colab": {
          "base_uri": "https://localhost:8080/"
        },
        "id": "CC043pm_CIgL",
        "outputId": "46d44250-6fab-4567-bd7a-6f5c3db28492"
      },
      "execution_count": null,
      "outputs": [
        {
          "output_type": "stream",
          "name": "stdout",
          "text": [
            "['a', 1, 'b', 2, 'c', 3, 'd', 4, 'e', 5, 'f', 6, 'g', 7, 'h', 8, ['i', 9], 'i', 9]\n"
          ]
        }
      ]
    },
    {
      "cell_type": "markdown",
      "source": [
        "|0|1|2|3|4|5|6|7|8|9|10|11|12|13|14|15|16|17|18|\n",
        "|-- |--| --| --| -| -|-|-- |--| --| --| -| -|-|-|-|-|-|-|\n",
        "|'a'| 1| 'b'| 2| 'c'| 3| 'd'| 4| 'e'| 5| 'f'| 6| 'g'| 7|'h'|8|['i',9]|'i'|9|"
      ],
      "metadata": {
        "id": "jbVe0fdpCQPx"
      }
    },
    {
      "cell_type": "code",
      "source": [
        "new_list.pop(16)"
      ],
      "metadata": {
        "colab": {
          "base_uri": "https://localhost:8080/"
        },
        "id": "Bt4pVo_RCLJf",
        "outputId": "130dbb48-4c56-49cb-d453-ed33b94e9c22"
      },
      "execution_count": null,
      "outputs": [
        {
          "output_type": "execute_result",
          "data": {
            "text/plain": [
              "['i', 9]"
            ]
          },
          "metadata": {},
          "execution_count": 137
        }
      ]
    },
    {
      "cell_type": "code",
      "source": [
        "print(new_list)"
      ],
      "metadata": {
        "colab": {
          "base_uri": "https://localhost:8080/"
        },
        "id": "iNyPwalzCmLX",
        "outputId": "c1a2b214-4f6c-49b4-9ba1-fe36f56c771b"
      },
      "execution_count": null,
      "outputs": [
        {
          "output_type": "stream",
          "name": "stdout",
          "text": [
            "['a', 1, 'b', 2, 'c', 3, 'd', 4, 'e', 5, 'f', 6, 'g', 7, 'h', 8, 'i', 9]\n"
          ]
        }
      ]
    },
    {
      "cell_type": "markdown",
      "source": [
        "|0|1|2|3|4|5|6|7|8|9|10|11|12|13|14|15|16|17|\n",
        "|-- |--| --| --| -| -|-|-- |--| --| --| -| -|-|-|-|-|-|\n",
        "|'a'| 1| 'b'| 2| 'c'| 3| 'd'| 4| 'e'| 5| 'f'| 6| 'g'| 7|'h'|8|'i'|9|"
      ],
      "metadata": {
        "id": "mw-UYMRuCqDO"
      }
    },
    {
      "cell_type": "code",
      "source": [
        "new_list.pop(-2)"
      ],
      "metadata": {
        "colab": {
          "base_uri": "https://localhost:8080/",
          "height": 35
        },
        "id": "Wcu1tJAiCoHC",
        "outputId": "3d36f9c0-3cb8-45ec-c70b-004a09510b41"
      },
      "execution_count": null,
      "outputs": [
        {
          "output_type": "execute_result",
          "data": {
            "text/plain": [
              "'i'"
            ],
            "application/vnd.google.colaboratory.intrinsic+json": {
              "type": "string"
            }
          },
          "metadata": {},
          "execution_count": 139
        }
      ]
    },
    {
      "cell_type": "code",
      "source": [
        "print(new_list)"
      ],
      "metadata": {
        "colab": {
          "base_uri": "https://localhost:8080/"
        },
        "id": "nRr-Rx7xCuvt",
        "outputId": "fecfdd6d-c701-4ab8-e7fb-faa302bfeec1"
      },
      "execution_count": null,
      "outputs": [
        {
          "output_type": "stream",
          "name": "stdout",
          "text": [
            "['a', 1, 'b', 2, 'c', 3, 'd', 4, 'e', 5, 'f', 6, 'g', 7, 'h', 8, 9]\n"
          ]
        }
      ]
    },
    {
      "cell_type": "code",
      "source": [
        "l2 = ['a', 'b', 'a']\n",
        "l2.remove('a')"
      ],
      "metadata": {
        "id": "qYBf3uoYCv4x"
      },
      "execution_count": null,
      "outputs": []
    },
    {
      "cell_type": "code",
      "source": [
        "l2"
      ],
      "metadata": {
        "colab": {
          "base_uri": "https://localhost:8080/"
        },
        "id": "4yaEay6pC3th",
        "outputId": "5013c13f-ee93-4261-faec-85e31c92e308"
      },
      "execution_count": null,
      "outputs": [
        {
          "output_type": "execute_result",
          "data": {
            "text/plain": [
              "['b', 'a']"
            ]
          },
          "metadata": {},
          "execution_count": 142
        }
      ]
    },
    {
      "cell_type": "markdown",
      "source": [
        "##    .\n",
        "- count : counting no. of occurences\n",
        "- index : getting the index location of the first occurence of certain item"
      ],
      "metadata": {
        "id": "Oxso7ZJBC7iZ"
      }
    },
    {
      "cell_type": "code",
      "source": [
        "new_list.index(2)"
      ],
      "metadata": {
        "colab": {
          "base_uri": "https://localhost:8080/"
        },
        "id": "rmpV-itkC4HF",
        "outputId": "a81733e3-0520-4367-a324-7554ff148012"
      },
      "execution_count": null,
      "outputs": [
        {
          "output_type": "execute_result",
          "data": {
            "text/plain": [
              "3"
            ]
          },
          "metadata": {},
          "execution_count": 143
        }
      ]
    },
    {
      "cell_type": "code",
      "source": [
        "l3 = ['a', 'b', 'a', 'b', 'd']\n",
        "l3.index('a')"
      ],
      "metadata": {
        "colab": {
          "base_uri": "https://localhost:8080/"
        },
        "id": "Z5AcQRClDKg-",
        "outputId": "daa8b4ee-2101-4a41-946e-eda936bad9ed"
      },
      "execution_count": null,
      "outputs": [
        {
          "output_type": "execute_result",
          "data": {
            "text/plain": [
              "0"
            ]
          },
          "metadata": {},
          "execution_count": 144
        }
      ]
    },
    {
      "cell_type": "code",
      "source": [
        "l3.count('a')"
      ],
      "metadata": {
        "colab": {
          "base_uri": "https://localhost:8080/"
        },
        "id": "F_5i8lrYDOKQ",
        "outputId": "2169a066-ce14-4b1f-df3e-42e82fed2da3"
      },
      "execution_count": null,
      "outputs": [
        {
          "output_type": "execute_result",
          "data": {
            "text/plain": [
              "2"
            ]
          },
          "metadata": {},
          "execution_count": 145
        }
      ]
    },
    {
      "cell_type": "code",
      "source": [
        "l3.index('a', 1)"
      ],
      "metadata": {
        "colab": {
          "base_uri": "https://localhost:8080/"
        },
        "id": "djkn-f0BDQm8",
        "outputId": "f727246f-caa6-472e-a7de-4031e24469a3"
      },
      "execution_count": null,
      "outputs": [
        {
          "output_type": "execute_result",
          "data": {
            "text/plain": [
              "2"
            ]
          },
          "metadata": {},
          "execution_count": 146
        }
      ]
    },
    {
      "cell_type": "markdown",
      "source": [
        "# copy"
      ],
      "metadata": {
        "id": "Af5Kmp_oDtgu"
      }
    },
    {
      "cell_type": "code",
      "source": [
        "l1 = ['apples', 'pear', 'oranges']\n",
        "l2 = l1"
      ],
      "metadata": {
        "id": "4TA90I-kDhG8"
      },
      "execution_count": null,
      "outputs": []
    },
    {
      "cell_type": "code",
      "source": [
        "id(l1)"
      ],
      "metadata": {
        "colab": {
          "base_uri": "https://localhost:8080/"
        },
        "id": "4gqec3ihD_8n",
        "outputId": "41d62b40-6c0f-4e3e-cb20-c3ade7063a06"
      },
      "execution_count": null,
      "outputs": [
        {
          "output_type": "execute_result",
          "data": {
            "text/plain": [
              "140071634108288"
            ]
          },
          "metadata": {},
          "execution_count": 148
        }
      ]
    },
    {
      "cell_type": "code",
      "source": [
        "id(l2)"
      ],
      "metadata": {
        "colab": {
          "base_uri": "https://localhost:8080/"
        },
        "id": "Q_BRiyrTEBkE",
        "outputId": "6497e331-5e69-4f08-b7bb-f8715c068ba7"
      },
      "execution_count": null,
      "outputs": [
        {
          "output_type": "execute_result",
          "data": {
            "text/plain": [
              "140071634108288"
            ]
          },
          "metadata": {},
          "execution_count": 150
        }
      ]
    },
    {
      "cell_type": "code",
      "source": [
        "l1.append('grapes')"
      ],
      "metadata": {
        "id": "vffcKHa2ECRL"
      },
      "execution_count": null,
      "outputs": []
    },
    {
      "cell_type": "code",
      "source": [
        "l1"
      ],
      "metadata": {
        "colab": {
          "base_uri": "https://localhost:8080/"
        },
        "id": "4I6RXsyiEKni",
        "outputId": "67b55c31-8a64-4939-b59e-42fa7425fd1b"
      },
      "execution_count": null,
      "outputs": [
        {
          "output_type": "execute_result",
          "data": {
            "text/plain": [
              "['apples', 'pear', 'oranges', 'grapes']"
            ]
          },
          "metadata": {},
          "execution_count": 152
        }
      ]
    },
    {
      "cell_type": "code",
      "source": [
        "l2"
      ],
      "metadata": {
        "colab": {
          "base_uri": "https://localhost:8080/"
        },
        "id": "iFMY-kE1ELVO",
        "outputId": "88731a75-2b43-4111-8677-005dfbc3b92e"
      },
      "execution_count": null,
      "outputs": [
        {
          "output_type": "execute_result",
          "data": {
            "text/plain": [
              "['apples', 'pear', 'oranges', 'grapes']"
            ]
          },
          "metadata": {},
          "execution_count": 153
        }
      ]
    },
    {
      "cell_type": "code",
      "source": [
        "l1 = ['apples', 'pear', 'oranges']\n",
        "l2 = l1.copy()"
      ],
      "metadata": {
        "id": "f4HgIjcOELps"
      },
      "execution_count": null,
      "outputs": []
    },
    {
      "cell_type": "code",
      "source": [
        "id(l1)"
      ],
      "metadata": {
        "colab": {
          "base_uri": "https://localhost:8080/"
        },
        "id": "jVJrCTG8Emhc",
        "outputId": "721628fb-587e-40bf-e41f-838c042af84d"
      },
      "execution_count": null,
      "outputs": [
        {
          "output_type": "execute_result",
          "data": {
            "text/plain": [
              "140071634979328"
            ]
          },
          "metadata": {},
          "execution_count": 155
        }
      ]
    },
    {
      "cell_type": "code",
      "source": [
        "id(l2)"
      ],
      "metadata": {
        "colab": {
          "base_uri": "https://localhost:8080/"
        },
        "id": "LDWt4kUBEpNz",
        "outputId": "f17ee8e2-410c-4165-ae87-f7e406adce32"
      },
      "execution_count": null,
      "outputs": [
        {
          "output_type": "execute_result",
          "data": {
            "text/plain": [
              "140071634979136"
            ]
          },
          "metadata": {},
          "execution_count": 156
        }
      ]
    },
    {
      "cell_type": "code",
      "source": [
        "l1.append('grapes')"
      ],
      "metadata": {
        "id": "7i-UP8N5Epvm"
      },
      "execution_count": null,
      "outputs": []
    },
    {
      "cell_type": "code",
      "source": [
        "l1"
      ],
      "metadata": {
        "colab": {
          "base_uri": "https://localhost:8080/"
        },
        "id": "aVKI_Gq5EsPj",
        "outputId": "2c1559a5-b26b-4548-a932-3616153e36c7"
      },
      "execution_count": null,
      "outputs": [
        {
          "output_type": "execute_result",
          "data": {
            "text/plain": [
              "['apples', 'pear', 'oranges', 'grapes']"
            ]
          },
          "metadata": {},
          "execution_count": 158
        }
      ]
    },
    {
      "cell_type": "code",
      "source": [
        "l2"
      ],
      "metadata": {
        "colab": {
          "base_uri": "https://localhost:8080/"
        },
        "id": "UbQRLqFxEsoU",
        "outputId": "a8d882a3-9aa0-4d23-d652-1a235ac9b482"
      },
      "execution_count": null,
      "outputs": [
        {
          "output_type": "execute_result",
          "data": {
            "text/plain": [
              "['apples', 'pear', 'oranges']"
            ]
          },
          "metadata": {},
          "execution_count": 159
        }
      ]
    },
    {
      "cell_type": "markdown",
      "source": [
        "## list manipulation"
      ],
      "metadata": {
        "id": "rGOoki-dEyPv"
      }
    },
    {
      "cell_type": "code",
      "source": [
        "new_list"
      ],
      "metadata": {
        "colab": {
          "base_uri": "https://localhost:8080/"
        },
        "id": "aKp7vbXWEtFX",
        "outputId": "d43af081-8746-4a66-d3a0-ae94ad0019b6"
      },
      "execution_count": null,
      "outputs": [
        {
          "output_type": "execute_result",
          "data": {
            "text/plain": [
              "['a', 1, 'b', 2, 'c', 3, 'd', 4, 'e', 5, 'f', 6, 'g', 7, 'h', 8, 9]"
            ]
          },
          "metadata": {},
          "execution_count": 160
        }
      ]
    },
    {
      "cell_type": "code",
      "source": [
        "new_list[-1] = \"end\"\n",
        "new_list"
      ],
      "metadata": {
        "colab": {
          "base_uri": "https://localhost:8080/"
        },
        "id": "FhdTgqX3E1P5",
        "outputId": "5d1e06c4-b9ef-4ffd-be81-c940f20f5847"
      },
      "execution_count": null,
      "outputs": [
        {
          "output_type": "execute_result",
          "data": {
            "text/plain": [
              "['a', 1, 'b', 2, 'c', 3, 'd', 4, 'e', 5, 'f', 6, 'g', 7, 'h', 8, 'end']"
            ]
          },
          "metadata": {},
          "execution_count": 161
        }
      ]
    },
    {
      "cell_type": "markdown",
      "source": [
        "## tuples"
      ],
      "metadata": {
        "id": "xYXKD7D9FRww"
      }
    },
    {
      "cell_type": "markdown",
      "source": [
        " -- multiple assignments"
      ],
      "metadata": {
        "id": "h0G2HVTyFZCp"
      }
    },
    {
      "cell_type": "code",
      "source": [
        "a,b,c,d = (1,2,3,4)"
      ],
      "metadata": {
        "id": "EekHQMo3E6Aa"
      },
      "execution_count": null,
      "outputs": []
    },
    {
      "cell_type": "markdown",
      "source": [
        "# Brackets : \n",
        "  1. ( ) Parenthesis : \n",
        "          - creating tuples\n",
        "          - with functions call / definition\n",
        "  2. [] Square Brackets: \n",
        "          - creating list \n",
        "          - indexing \n",
        "  3. {} curly brackets:\n",
        "          - creating sets\n",
        "          - creating dictionary"
      ],
      "metadata": {
        "id": "BnM1no7_FhbT"
      }
    },
    {
      "cell_type": "markdown",
      "source": [
        "### tuples : more memory efficient and faster"
      ],
      "metadata": {
        "id": "WOItS26yGXaL"
      }
    },
    {
      "cell_type": "code",
      "source": [
        "l_ex = [1, \"string\"]"
      ],
      "metadata": {
        "id": "xi5l_cbPFmic"
      },
      "execution_count": null,
      "outputs": []
    },
    {
      "cell_type": "code",
      "source": [
        "# no. of variables ≠ no. of elements in the collection\n",
        "tup = (1,2) \n",
        "print(tup , type(tup))"
      ],
      "metadata": {
        "colab": {
          "base_uri": "https://localhost:8080/"
        },
        "id": "LSHoq2jVG7bL",
        "outputId": "4a383f09-6fe0-4774-b6f5-359d3356140c"
      },
      "execution_count": null,
      "outputs": [
        {
          "output_type": "stream",
          "name": "stdout",
          "text": [
            "(1, 2) <class 'tuple'>\n"
          ]
        }
      ]
    },
    {
      "cell_type": "code",
      "source": [
        "# no. of variables = no. of elements in the collection\n",
        "tup_1 = (1) \n",
        "print(tup_1 , type(tup_1))"
      ],
      "metadata": {
        "colab": {
          "base_uri": "https://localhost:8080/"
        },
        "id": "-1J1P9GoHB4u",
        "outputId": "77c84ad6-a8af-41d2-e403-a4d187fe0ec3"
      },
      "execution_count": null,
      "outputs": [
        {
          "output_type": "stream",
          "name": "stdout",
          "text": [
            "1 <class 'int'>\n"
          ]
        }
      ]
    },
    {
      "cell_type": "code",
      "source": [
        "a,b,c,d = (1,2,3,4)\n",
        "print(a)"
      ],
      "metadata": {
        "colab": {
          "base_uri": "https://localhost:8080/"
        },
        "id": "mDDnztQaHMUh",
        "outputId": "98779e07-e08f-44bb-b45a-7ecf40b549e4"
      },
      "execution_count": null,
      "outputs": [
        {
          "output_type": "stream",
          "name": "stdout",
          "text": [
            "1\n"
          ]
        }
      ]
    },
    {
      "cell_type": "code",
      "source": [
        "print(b)"
      ],
      "metadata": {
        "colab": {
          "base_uri": "https://localhost:8080/"
        },
        "id": "8Xw5wTR4HUow",
        "outputId": "266eae84-42c6-438f-fe03-7f0ac3a8a590"
      },
      "execution_count": null,
      "outputs": [
        {
          "output_type": "stream",
          "name": "stdout",
          "text": [
            "2\n"
          ]
        }
      ]
    },
    {
      "cell_type": "code",
      "source": [
        "# create a tuple with a single value\n",
        "tup_2 = (1,)\n",
        "print(tup_2, type(tup_2))"
      ],
      "metadata": {
        "colab": {
          "base_uri": "https://localhost:8080/"
        },
        "id": "q_Nh-ODHHVWi",
        "outputId": "3f4d9e72-5b1f-4395-923e-9dd239a8d0d5"
      },
      "execution_count": null,
      "outputs": [
        {
          "output_type": "stream",
          "name": "stdout",
          "text": [
            "(1,) <class 'tuple'>\n"
          ]
        }
      ]
    },
    {
      "cell_type": "code",
      "source": [
        "tup_1.__sizeof__() # int"
      ],
      "metadata": {
        "colab": {
          "base_uri": "https://localhost:8080/"
        },
        "id": "pjB8w62DHjbN",
        "outputId": "ab13b9cb-fbcb-4f3f-da5d-44acfec79c20"
      },
      "execution_count": null,
      "outputs": [
        {
          "output_type": "execute_result",
          "data": {
            "text/plain": [
              "28"
            ]
          },
          "metadata": {},
          "execution_count": 171
        }
      ]
    },
    {
      "cell_type": "code",
      "source": [
        "tup_2.__sizeof__() # tuple"
      ],
      "metadata": {
        "colab": {
          "base_uri": "https://localhost:8080/"
        },
        "id": "nsuTc5xeHn5d",
        "outputId": "d00beb74-aaa5-4920-96c3-1f1657dc8780"
      },
      "execution_count": null,
      "outputs": [
        {
          "output_type": "execute_result",
          "data": {
            "text/plain": [
              "32"
            ]
          },
          "metadata": {},
          "execution_count": 172
        }
      ]
    },
    {
      "cell_type": "code",
      "source": [
        "l_1 = [1]\n",
        "l_1.__sizeof__() # list"
      ],
      "metadata": {
        "colab": {
          "base_uri": "https://localhost:8080/"
        },
        "id": "73e0ei1cHqFM",
        "outputId": "bd5a3388-32d3-4011-fe02-05dc8163fec1"
      },
      "execution_count": null,
      "outputs": [
        {
          "output_type": "execute_result",
          "data": {
            "text/plain": [
              "48"
            ]
          },
          "metadata": {},
          "execution_count": 173
        }
      ]
    },
    {
      "cell_type": "code",
      "source": [
        "tup1 = (23, 45, [45, 78])"
      ],
      "metadata": {
        "id": "KggGeXLcH0ju"
      },
      "execution_count": null,
      "outputs": []
    },
    {
      "cell_type": "code",
      "source": [
        "tup1[0]"
      ],
      "metadata": {
        "colab": {
          "base_uri": "https://localhost:8080/"
        },
        "id": "Va9O5IWrJOmX",
        "outputId": "14be8a22-8eef-42e3-b1ec-060ec6d92dbf"
      },
      "execution_count": null,
      "outputs": [
        {
          "output_type": "execute_result",
          "data": {
            "text/plain": [
              "23"
            ]
          },
          "metadata": {},
          "execution_count": 175
        }
      ]
    },
    {
      "cell_type": "code",
      "source": [
        "len(tup1)"
      ],
      "metadata": {
        "colab": {
          "base_uri": "https://localhost:8080/"
        },
        "id": "oabbrUYJJPnk",
        "outputId": "38ab0b5f-7ca4-4763-ac28-c0cae70708e5"
      },
      "execution_count": null,
      "outputs": [
        {
          "output_type": "execute_result",
          "data": {
            "text/plain": [
              "3"
            ]
          },
          "metadata": {},
          "execution_count": 176
        }
      ]
    },
    {
      "cell_type": "code",
      "source": [
        "tup1[-1]"
      ],
      "metadata": {
        "colab": {
          "base_uri": "https://localhost:8080/"
        },
        "id": "NatNF9OQJQeY",
        "outputId": "ecf67835-e7aa-4f8d-c76b-9508816300e4"
      },
      "execution_count": null,
      "outputs": [
        {
          "output_type": "execute_result",
          "data": {
            "text/plain": [
              "[45, 78]"
            ]
          },
          "metadata": {},
          "execution_count": 177
        }
      ]
    },
    {
      "cell_type": "code",
      "source": [
        "# count and index"
      ],
      "metadata": {
        "id": "7YZ4JfnTJSdA"
      },
      "execution_count": null,
      "outputs": []
    },
    {
      "cell_type": "markdown",
      "source": [
        "## how to access elements within a list / tuple enclosed in a list / tuple"
      ],
      "metadata": {
        "id": "E-Ii-Su-Je1d"
      }
    },
    {
      "cell_type": "code",
      "source": [
        "list_2 = ['a', 1, 'b', 2, ['emma', 11,12, 45 ]]"
      ],
      "metadata": {
        "id": "0LSqRYWzJbkg"
      },
      "execution_count": null,
      "outputs": []
    },
    {
      "cell_type": "code",
      "source": [
        "list_2[-1]"
      ],
      "metadata": {
        "colab": {
          "base_uri": "https://localhost:8080/"
        },
        "id": "KSxbOBG5Jjyd",
        "outputId": "eecf4793-937f-41cc-cba6-4db94c186d2c"
      },
      "execution_count": null,
      "outputs": [
        {
          "output_type": "execute_result",
          "data": {
            "text/plain": [
              "['emma', 11, 12, 45]"
            ]
          },
          "metadata": {},
          "execution_count": 180
        }
      ]
    },
    {
      "cell_type": "code",
      "source": [
        "list_2[-1][2]"
      ],
      "metadata": {
        "colab": {
          "base_uri": "https://localhost:8080/"
        },
        "id": "C9ShSY2qJlJS",
        "outputId": "f432cb21-4135-49a4-cf97-73d8e53c1bb5"
      },
      "execution_count": null,
      "outputs": [
        {
          "output_type": "execute_result",
          "data": {
            "text/plain": [
              "12"
            ]
          },
          "metadata": {},
          "execution_count": 181
        }
      ]
    },
    {
      "cell_type": "code",
      "source": [
        "tup1 = (23, 45, [45, 78])"
      ],
      "metadata": {
        "id": "x4itpgUEJs-d"
      },
      "execution_count": null,
      "outputs": []
    },
    {
      "cell_type": "code",
      "source": [
        "tup1[-1][0]"
      ],
      "metadata": {
        "colab": {
          "base_uri": "https://localhost:8080/"
        },
        "id": "0Gm06TEDJww8",
        "outputId": "17f02ecc-c4d2-49cd-e805-42125c618963"
      },
      "execution_count": null,
      "outputs": [
        {
          "output_type": "execute_result",
          "data": {
            "text/plain": [
              "45"
            ]
          },
          "metadata": {},
          "execution_count": 184
        }
      ]
    },
    {
      "cell_type": "markdown",
      "source": [
        "### manipulation"
      ],
      "metadata": {
        "id": "i2PGkGcMJ4VW"
      }
    },
    {
      "cell_type": "code",
      "source": [
        "list_2[-1][2] = 'change'"
      ],
      "metadata": {
        "id": "_XPMqDhOJxwI"
      },
      "execution_count": null,
      "outputs": []
    },
    {
      "cell_type": "code",
      "source": [
        "list_2"
      ],
      "metadata": {
        "colab": {
          "base_uri": "https://localhost:8080/"
        },
        "id": "lhE9JPaLJ2xF",
        "outputId": "5e9cd4ea-acad-4e4a-c1ee-8112a8c99cde"
      },
      "execution_count": null,
      "outputs": [
        {
          "output_type": "execute_result",
          "data": {
            "text/plain": [
              "['a', 1, 'b', 2, ['emma', 11, 'change', 45]]"
            ]
          },
          "metadata": {},
          "execution_count": 186
        }
      ]
    },
    {
      "cell_type": "code",
      "source": [
        "tup1 = (23, 45, [45, 78], 'string')"
      ],
      "metadata": {
        "id": "FGQreP0vJ3WO"
      },
      "execution_count": null,
      "outputs": []
    },
    {
      "cell_type": "code",
      "source": [
        "# tup1 : length / individual datatypes"
      ],
      "metadata": {
        "id": "d_W7MP_UJ9aP"
      },
      "execution_count": null,
      "outputs": []
    },
    {
      "cell_type": "code",
      "source": [
        "len(tup1)"
      ],
      "metadata": {
        "colab": {
          "base_uri": "https://localhost:8080/"
        },
        "id": "dLVRGYphKIl2",
        "outputId": "8d891891-086d-41fd-ca48-673b453f5bcf"
      },
      "execution_count": null,
      "outputs": [
        {
          "output_type": "execute_result",
          "data": {
            "text/plain": [
              "4"
            ]
          },
          "metadata": {},
          "execution_count": 190
        }
      ]
    },
    {
      "cell_type": "code",
      "source": [
        "tup1[2].append('append')"
      ],
      "metadata": {
        "id": "TJ58U91tKJpg"
      },
      "execution_count": null,
      "outputs": []
    },
    {
      "cell_type": "code",
      "source": [
        "len(tup1)"
      ],
      "metadata": {
        "colab": {
          "base_uri": "https://localhost:8080/"
        },
        "id": "BW0u4XWVKO03",
        "outputId": "52ec4aeb-f2e6-4914-9756-64deffcf9bbf"
      },
      "execution_count": null,
      "outputs": [
        {
          "output_type": "execute_result",
          "data": {
            "text/plain": [
              "4"
            ]
          },
          "metadata": {},
          "execution_count": 193
        }
      ]
    },
    {
      "cell_type": "code",
      "source": [
        "tup1"
      ],
      "metadata": {
        "colab": {
          "base_uri": "https://localhost:8080/"
        },
        "id": "j27bUQKlKUbl",
        "outputId": "12f66abb-d32c-48db-fa79-e620470363c6"
      },
      "execution_count": null,
      "outputs": [
        {
          "output_type": "execute_result",
          "data": {
            "text/plain": [
              "(23, 45, [45, 78, 'append'], 'string')"
            ]
          },
          "metadata": {},
          "execution_count": 194
        }
      ]
    },
    {
      "cell_type": "code",
      "source": [
        "tup[-1] = 'new'"
      ],
      "metadata": {
        "colab": {
          "base_uri": "https://localhost:8080/",
          "height": 166
        },
        "id": "AEgnFDGqKVNV",
        "outputId": "6d45a3d2-95aa-4c78-a779-d075a748572b"
      },
      "execution_count": null,
      "outputs": [
        {
          "output_type": "error",
          "ename": "TypeError",
          "evalue": "ignored",
          "traceback": [
            "\u001b[0;31m---------------------------------------------------------------------------\u001b[0m",
            "\u001b[0;31mTypeError\u001b[0m                                 Traceback (most recent call last)",
            "\u001b[0;32m<ipython-input-195-c80b67d21fd5>\u001b[0m in \u001b[0;36m<module>\u001b[0;34m\u001b[0m\n\u001b[0;32m----> 1\u001b[0;31m \u001b[0mtup\u001b[0m\u001b[0;34m[\u001b[0m\u001b[0;34m-\u001b[0m\u001b[0;36m1\u001b[0m\u001b[0;34m]\u001b[0m \u001b[0;34m=\u001b[0m \u001b[0;34m'new'\u001b[0m\u001b[0;34m\u001b[0m\u001b[0;34m\u001b[0m\u001b[0m\n\u001b[0m",
            "\u001b[0;31mTypeError\u001b[0m: 'tuple' object does not support item assignment"
          ]
        }
      ]
    },
    {
      "cell_type": "code",
      "source": [],
      "metadata": {
        "id": "PwQ6EDDOKevX"
      },
      "execution_count": null,
      "outputs": []
    }
  ]
}